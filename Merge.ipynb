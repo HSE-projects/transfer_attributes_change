{
  "nbformat": 4,
  "nbformat_minor": 0,
  "metadata": {
    "colab": {
      "name": "Merge.ipynb",
      "provenance": [],
      "collapsed_sections": []
    },
    "kernelspec": {
      "name": "python3",
      "display_name": "Python 3"
    },
    "widgets": {
      "application/vnd.jupyter.widget-state+json": {
        "30ad5668c7544d2b8342a7ca5c2fd369": {
          "model_module": "@jupyter-widgets/controls",
          "model_name": "HBoxModel",
          "state": {
            "_view_name": "HBoxView",
            "_dom_classes": [],
            "_model_name": "HBoxModel",
            "_view_module": "@jupyter-widgets/controls",
            "_model_module_version": "1.5.0",
            "_view_count": null,
            "_view_module_version": "1.5.0",
            "box_style": "",
            "layout": "IPY_MODEL_2943b08f26264210a5d7dd7f91459e50",
            "_model_module": "@jupyter-widgets/controls",
            "children": [
              "IPY_MODEL_fc5d2726ec024405844f7aa519f623d6",
              "IPY_MODEL_b8048af196084aaca3005d7a01f8d46f"
            ]
          }
        },
        "2943b08f26264210a5d7dd7f91459e50": {
          "model_module": "@jupyter-widgets/base",
          "model_name": "LayoutModel",
          "state": {
            "_view_name": "LayoutView",
            "grid_template_rows": null,
            "right": null,
            "justify_content": null,
            "_view_module": "@jupyter-widgets/base",
            "overflow": null,
            "_model_module_version": "1.2.0",
            "_view_count": null,
            "flex_flow": null,
            "width": null,
            "min_width": null,
            "border": null,
            "align_items": null,
            "bottom": null,
            "_model_module": "@jupyter-widgets/base",
            "top": null,
            "grid_column": null,
            "overflow_y": null,
            "overflow_x": null,
            "grid_auto_flow": null,
            "grid_area": null,
            "grid_template_columns": null,
            "flex": null,
            "_model_name": "LayoutModel",
            "justify_items": null,
            "grid_row": null,
            "max_height": null,
            "align_content": null,
            "visibility": null,
            "align_self": null,
            "height": null,
            "min_height": null,
            "padding": null,
            "grid_auto_rows": null,
            "grid_gap": null,
            "max_width": null,
            "order": null,
            "_view_module_version": "1.2.0",
            "grid_template_areas": null,
            "object_position": null,
            "object_fit": null,
            "grid_auto_columns": null,
            "margin": null,
            "display": null,
            "left": null
          }
        },
        "fc5d2726ec024405844f7aa519f623d6": {
          "model_module": "@jupyter-widgets/controls",
          "model_name": "FloatProgressModel",
          "state": {
            "_view_name": "ProgressView",
            "style": "IPY_MODEL_50909a9b75fa445b96659ebb3d19ed6c",
            "_dom_classes": [],
            "description": "100%",
            "_model_name": "FloatProgressModel",
            "bar_style": "success",
            "max": 906,
            "_view_module": "@jupyter-widgets/controls",
            "_model_module_version": "1.5.0",
            "value": 906,
            "_view_count": null,
            "_view_module_version": "1.5.0",
            "orientation": "horizontal",
            "min": 0,
            "description_tooltip": null,
            "_model_module": "@jupyter-widgets/controls",
            "layout": "IPY_MODEL_cf0a5bff2b234fa6b73800cea028d02e"
          }
        },
        "b8048af196084aaca3005d7a01f8d46f": {
          "model_module": "@jupyter-widgets/controls",
          "model_name": "HTMLModel",
          "state": {
            "_view_name": "HTMLView",
            "style": "IPY_MODEL_8c60c4d99b074e5fbf67a54928b31695",
            "_dom_classes": [],
            "description": "",
            "_model_name": "HTMLModel",
            "placeholder": "​",
            "_view_module": "@jupyter-widgets/controls",
            "_model_module_version": "1.5.0",
            "value": " 906/906 [1:23:18&lt;00:00,  5.52s/it]",
            "_view_count": null,
            "_view_module_version": "1.5.0",
            "description_tooltip": null,
            "_model_module": "@jupyter-widgets/controls",
            "layout": "IPY_MODEL_99fb78d57b824b81a7379a5d8ce57a9a"
          }
        },
        "50909a9b75fa445b96659ebb3d19ed6c": {
          "model_module": "@jupyter-widgets/controls",
          "model_name": "ProgressStyleModel",
          "state": {
            "_view_name": "StyleView",
            "_model_name": "ProgressStyleModel",
            "description_width": "initial",
            "_view_module": "@jupyter-widgets/base",
            "_model_module_version": "1.5.0",
            "_view_count": null,
            "_view_module_version": "1.2.0",
            "bar_color": null,
            "_model_module": "@jupyter-widgets/controls"
          }
        },
        "cf0a5bff2b234fa6b73800cea028d02e": {
          "model_module": "@jupyter-widgets/base",
          "model_name": "LayoutModel",
          "state": {
            "_view_name": "LayoutView",
            "grid_template_rows": null,
            "right": null,
            "justify_content": null,
            "_view_module": "@jupyter-widgets/base",
            "overflow": null,
            "_model_module_version": "1.2.0",
            "_view_count": null,
            "flex_flow": null,
            "width": null,
            "min_width": null,
            "border": null,
            "align_items": null,
            "bottom": null,
            "_model_module": "@jupyter-widgets/base",
            "top": null,
            "grid_column": null,
            "overflow_y": null,
            "overflow_x": null,
            "grid_auto_flow": null,
            "grid_area": null,
            "grid_template_columns": null,
            "flex": null,
            "_model_name": "LayoutModel",
            "justify_items": null,
            "grid_row": null,
            "max_height": null,
            "align_content": null,
            "visibility": null,
            "align_self": null,
            "height": null,
            "min_height": null,
            "padding": null,
            "grid_auto_rows": null,
            "grid_gap": null,
            "max_width": null,
            "order": null,
            "_view_module_version": "1.2.0",
            "grid_template_areas": null,
            "object_position": null,
            "object_fit": null,
            "grid_auto_columns": null,
            "margin": null,
            "display": null,
            "left": null
          }
        },
        "8c60c4d99b074e5fbf67a54928b31695": {
          "model_module": "@jupyter-widgets/controls",
          "model_name": "DescriptionStyleModel",
          "state": {
            "_view_name": "StyleView",
            "_model_name": "DescriptionStyleModel",
            "description_width": "",
            "_view_module": "@jupyter-widgets/base",
            "_model_module_version": "1.5.0",
            "_view_count": null,
            "_view_module_version": "1.2.0",
            "_model_module": "@jupyter-widgets/controls"
          }
        },
        "99fb78d57b824b81a7379a5d8ce57a9a": {
          "model_module": "@jupyter-widgets/base",
          "model_name": "LayoutModel",
          "state": {
            "_view_name": "LayoutView",
            "grid_template_rows": null,
            "right": null,
            "justify_content": null,
            "_view_module": "@jupyter-widgets/base",
            "overflow": null,
            "_model_module_version": "1.2.0",
            "_view_count": null,
            "flex_flow": null,
            "width": null,
            "min_width": null,
            "border": null,
            "align_items": null,
            "bottom": null,
            "_model_module": "@jupyter-widgets/base",
            "top": null,
            "grid_column": null,
            "overflow_y": null,
            "overflow_x": null,
            "grid_auto_flow": null,
            "grid_area": null,
            "grid_template_columns": null,
            "flex": null,
            "_model_name": "LayoutModel",
            "justify_items": null,
            "grid_row": null,
            "max_height": null,
            "align_content": null,
            "visibility": null,
            "align_self": null,
            "height": null,
            "min_height": null,
            "padding": null,
            "grid_auto_rows": null,
            "grid_gap": null,
            "max_width": null,
            "order": null,
            "_view_module_version": "1.2.0",
            "grid_template_areas": null,
            "object_position": null,
            "object_fit": null,
            "grid_auto_columns": null,
            "margin": null,
            "display": null,
            "left": null
          }
        },
        "bc9df8af196243d8acbdca1eb5318cfe": {
          "model_module": "@jupyter-widgets/controls",
          "model_name": "HBoxModel",
          "state": {
            "_view_name": "HBoxView",
            "_dom_classes": [],
            "_model_name": "HBoxModel",
            "_view_module": "@jupyter-widgets/controls",
            "_model_module_version": "1.5.0",
            "_view_count": null,
            "_view_module_version": "1.5.0",
            "box_style": "",
            "layout": "IPY_MODEL_5602dbc85c334921977e4d12230526a5",
            "_model_module": "@jupyter-widgets/controls",
            "children": [
              "IPY_MODEL_2794671b9d95431db3c0a9875d813acf",
              "IPY_MODEL_f284cc26cdbb4a95983d6bad3ca05b7f"
            ]
          }
        },
        "5602dbc85c334921977e4d12230526a5": {
          "model_module": "@jupyter-widgets/base",
          "model_name": "LayoutModel",
          "state": {
            "_view_name": "LayoutView",
            "grid_template_rows": null,
            "right": null,
            "justify_content": null,
            "_view_module": "@jupyter-widgets/base",
            "overflow": null,
            "_model_module_version": "1.2.0",
            "_view_count": null,
            "flex_flow": null,
            "width": null,
            "min_width": null,
            "border": null,
            "align_items": null,
            "bottom": null,
            "_model_module": "@jupyter-widgets/base",
            "top": null,
            "grid_column": null,
            "overflow_y": null,
            "overflow_x": null,
            "grid_auto_flow": null,
            "grid_area": null,
            "grid_template_columns": null,
            "flex": null,
            "_model_name": "LayoutModel",
            "justify_items": null,
            "grid_row": null,
            "max_height": null,
            "align_content": null,
            "visibility": null,
            "align_self": null,
            "height": null,
            "min_height": null,
            "padding": null,
            "grid_auto_rows": null,
            "grid_gap": null,
            "max_width": null,
            "order": null,
            "_view_module_version": "1.2.0",
            "grid_template_areas": null,
            "object_position": null,
            "object_fit": null,
            "grid_auto_columns": null,
            "margin": null,
            "display": null,
            "left": null
          }
        },
        "2794671b9d95431db3c0a9875d813acf": {
          "model_module": "@jupyter-widgets/controls",
          "model_name": "FloatProgressModel",
          "state": {
            "_view_name": "ProgressView",
            "style": "IPY_MODEL_46d8ae0f0559443cb174b2e85e80373a",
            "_dom_classes": [],
            "description": "100%",
            "_model_name": "FloatProgressModel",
            "bar_style": "success",
            "max": 906,
            "_view_module": "@jupyter-widgets/controls",
            "_model_module_version": "1.5.0",
            "value": 906,
            "_view_count": null,
            "_view_module_version": "1.5.0",
            "orientation": "horizontal",
            "min": 0,
            "description_tooltip": null,
            "_model_module": "@jupyter-widgets/controls",
            "layout": "IPY_MODEL_fb416c2f83ff4486816bfcdfbb9592ac"
          }
        },
        "f284cc26cdbb4a95983d6bad3ca05b7f": {
          "model_module": "@jupyter-widgets/controls",
          "model_name": "HTMLModel",
          "state": {
            "_view_name": "HTMLView",
            "style": "IPY_MODEL_9d6281a3c31447fc944c7644a73b586b",
            "_dom_classes": [],
            "description": "",
            "_model_name": "HTMLModel",
            "placeholder": "​",
            "_view_module": "@jupyter-widgets/controls",
            "_model_module_version": "1.5.0",
            "value": " 906/906 [00:22&lt;00:00, 40.58it/s]",
            "_view_count": null,
            "_view_module_version": "1.5.0",
            "description_tooltip": null,
            "_model_module": "@jupyter-widgets/controls",
            "layout": "IPY_MODEL_8c4cb52330f541028c521b32cc84b3ed"
          }
        },
        "46d8ae0f0559443cb174b2e85e80373a": {
          "model_module": "@jupyter-widgets/controls",
          "model_name": "ProgressStyleModel",
          "state": {
            "_view_name": "StyleView",
            "_model_name": "ProgressStyleModel",
            "description_width": "initial",
            "_view_module": "@jupyter-widgets/base",
            "_model_module_version": "1.5.0",
            "_view_count": null,
            "_view_module_version": "1.2.0",
            "bar_color": null,
            "_model_module": "@jupyter-widgets/controls"
          }
        },
        "fb416c2f83ff4486816bfcdfbb9592ac": {
          "model_module": "@jupyter-widgets/base",
          "model_name": "LayoutModel",
          "state": {
            "_view_name": "LayoutView",
            "grid_template_rows": null,
            "right": null,
            "justify_content": null,
            "_view_module": "@jupyter-widgets/base",
            "overflow": null,
            "_model_module_version": "1.2.0",
            "_view_count": null,
            "flex_flow": null,
            "width": null,
            "min_width": null,
            "border": null,
            "align_items": null,
            "bottom": null,
            "_model_module": "@jupyter-widgets/base",
            "top": null,
            "grid_column": null,
            "overflow_y": null,
            "overflow_x": null,
            "grid_auto_flow": null,
            "grid_area": null,
            "grid_template_columns": null,
            "flex": null,
            "_model_name": "LayoutModel",
            "justify_items": null,
            "grid_row": null,
            "max_height": null,
            "align_content": null,
            "visibility": null,
            "align_self": null,
            "height": null,
            "min_height": null,
            "padding": null,
            "grid_auto_rows": null,
            "grid_gap": null,
            "max_width": null,
            "order": null,
            "_view_module_version": "1.2.0",
            "grid_template_areas": null,
            "object_position": null,
            "object_fit": null,
            "grid_auto_columns": null,
            "margin": null,
            "display": null,
            "left": null
          }
        },
        "9d6281a3c31447fc944c7644a73b586b": {
          "model_module": "@jupyter-widgets/controls",
          "model_name": "DescriptionStyleModel",
          "state": {
            "_view_name": "StyleView",
            "_model_name": "DescriptionStyleModel",
            "description_width": "",
            "_view_module": "@jupyter-widgets/base",
            "_model_module_version": "1.5.0",
            "_view_count": null,
            "_view_module_version": "1.2.0",
            "_model_module": "@jupyter-widgets/controls"
          }
        },
        "8c4cb52330f541028c521b32cc84b3ed": {
          "model_module": "@jupyter-widgets/base",
          "model_name": "LayoutModel",
          "state": {
            "_view_name": "LayoutView",
            "grid_template_rows": null,
            "right": null,
            "justify_content": null,
            "_view_module": "@jupyter-widgets/base",
            "overflow": null,
            "_model_module_version": "1.2.0",
            "_view_count": null,
            "flex_flow": null,
            "width": null,
            "min_width": null,
            "border": null,
            "align_items": null,
            "bottom": null,
            "_model_module": "@jupyter-widgets/base",
            "top": null,
            "grid_column": null,
            "overflow_y": null,
            "overflow_x": null,
            "grid_auto_flow": null,
            "grid_area": null,
            "grid_template_columns": null,
            "flex": null,
            "_model_name": "LayoutModel",
            "justify_items": null,
            "grid_row": null,
            "max_height": null,
            "align_content": null,
            "visibility": null,
            "align_self": null,
            "height": null,
            "min_height": null,
            "padding": null,
            "grid_auto_rows": null,
            "grid_gap": null,
            "max_width": null,
            "order": null,
            "_view_module_version": "1.2.0",
            "grid_template_areas": null,
            "object_position": null,
            "object_fit": null,
            "grid_auto_columns": null,
            "margin": null,
            "display": null,
            "left": null
          }
        },
        "50fb61ea3a534e60ac95613445d92791": {
          "model_module": "@jupyter-widgets/controls",
          "model_name": "HBoxModel",
          "state": {
            "_view_name": "HBoxView",
            "_dom_classes": [],
            "_model_name": "HBoxModel",
            "_view_module": "@jupyter-widgets/controls",
            "_model_module_version": "1.5.0",
            "_view_count": null,
            "_view_module_version": "1.5.0",
            "box_style": "",
            "layout": "IPY_MODEL_c6e64d973d3a414aa83febab5afdbcc5",
            "_model_module": "@jupyter-widgets/controls",
            "children": [
              "IPY_MODEL_d3aaf78507cb4934be07472453b1b99d",
              "IPY_MODEL_8e8a51c492bf4cb89a1217e9a8f8f75a"
            ]
          }
        },
        "c6e64d973d3a414aa83febab5afdbcc5": {
          "model_module": "@jupyter-widgets/base",
          "model_name": "LayoutModel",
          "state": {
            "_view_name": "LayoutView",
            "grid_template_rows": null,
            "right": null,
            "justify_content": null,
            "_view_module": "@jupyter-widgets/base",
            "overflow": null,
            "_model_module_version": "1.2.0",
            "_view_count": null,
            "flex_flow": null,
            "width": null,
            "min_width": null,
            "border": null,
            "align_items": null,
            "bottom": null,
            "_model_module": "@jupyter-widgets/base",
            "top": null,
            "grid_column": null,
            "overflow_y": null,
            "overflow_x": null,
            "grid_auto_flow": null,
            "grid_area": null,
            "grid_template_columns": null,
            "flex": null,
            "_model_name": "LayoutModel",
            "justify_items": null,
            "grid_row": null,
            "max_height": null,
            "align_content": null,
            "visibility": null,
            "align_self": null,
            "height": null,
            "min_height": null,
            "padding": null,
            "grid_auto_rows": null,
            "grid_gap": null,
            "max_width": null,
            "order": null,
            "_view_module_version": "1.2.0",
            "grid_template_areas": null,
            "object_position": null,
            "object_fit": null,
            "grid_auto_columns": null,
            "margin": null,
            "display": null,
            "left": null
          }
        },
        "d3aaf78507cb4934be07472453b1b99d": {
          "model_module": "@jupyter-widgets/controls",
          "model_name": "FloatProgressModel",
          "state": {
            "_view_name": "ProgressView",
            "style": "IPY_MODEL_68c4290bc57c4974b3c8665a2c1d7fbb",
            "_dom_classes": [],
            "description": "100%",
            "_model_name": "FloatProgressModel",
            "bar_style": "success",
            "max": 906,
            "_view_module": "@jupyter-widgets/controls",
            "_model_module_version": "1.5.0",
            "value": 906,
            "_view_count": null,
            "_view_module_version": "1.5.0",
            "orientation": "horizontal",
            "min": 0,
            "description_tooltip": null,
            "_model_module": "@jupyter-widgets/controls",
            "layout": "IPY_MODEL_5ede12cdb69d4914a0ffe33bd32c8147"
          }
        },
        "8e8a51c492bf4cb89a1217e9a8f8f75a": {
          "model_module": "@jupyter-widgets/controls",
          "model_name": "HTMLModel",
          "state": {
            "_view_name": "HTMLView",
            "style": "IPY_MODEL_f432dbe1581e405e8bbb2125ee9bc01c",
            "_dom_classes": [],
            "description": "",
            "_model_name": "HTMLModel",
            "placeholder": "​",
            "_view_module": "@jupyter-widgets/controls",
            "_model_module_version": "1.5.0",
            "value": " 906/906 [1:15:14&lt;00:00,  4.98s/it]",
            "_view_count": null,
            "_view_module_version": "1.5.0",
            "description_tooltip": null,
            "_model_module": "@jupyter-widgets/controls",
            "layout": "IPY_MODEL_9d0699dabbfe4859989b420f37dc986c"
          }
        },
        "68c4290bc57c4974b3c8665a2c1d7fbb": {
          "model_module": "@jupyter-widgets/controls",
          "model_name": "ProgressStyleModel",
          "state": {
            "_view_name": "StyleView",
            "_model_name": "ProgressStyleModel",
            "description_width": "initial",
            "_view_module": "@jupyter-widgets/base",
            "_model_module_version": "1.5.0",
            "_view_count": null,
            "_view_module_version": "1.2.0",
            "bar_color": null,
            "_model_module": "@jupyter-widgets/controls"
          }
        },
        "5ede12cdb69d4914a0ffe33bd32c8147": {
          "model_module": "@jupyter-widgets/base",
          "model_name": "LayoutModel",
          "state": {
            "_view_name": "LayoutView",
            "grid_template_rows": null,
            "right": null,
            "justify_content": null,
            "_view_module": "@jupyter-widgets/base",
            "overflow": null,
            "_model_module_version": "1.2.0",
            "_view_count": null,
            "flex_flow": null,
            "width": null,
            "min_width": null,
            "border": null,
            "align_items": null,
            "bottom": null,
            "_model_module": "@jupyter-widgets/base",
            "top": null,
            "grid_column": null,
            "overflow_y": null,
            "overflow_x": null,
            "grid_auto_flow": null,
            "grid_area": null,
            "grid_template_columns": null,
            "flex": null,
            "_model_name": "LayoutModel",
            "justify_items": null,
            "grid_row": null,
            "max_height": null,
            "align_content": null,
            "visibility": null,
            "align_self": null,
            "height": null,
            "min_height": null,
            "padding": null,
            "grid_auto_rows": null,
            "grid_gap": null,
            "max_width": null,
            "order": null,
            "_view_module_version": "1.2.0",
            "grid_template_areas": null,
            "object_position": null,
            "object_fit": null,
            "grid_auto_columns": null,
            "margin": null,
            "display": null,
            "left": null
          }
        },
        "f432dbe1581e405e8bbb2125ee9bc01c": {
          "model_module": "@jupyter-widgets/controls",
          "model_name": "DescriptionStyleModel",
          "state": {
            "_view_name": "StyleView",
            "_model_name": "DescriptionStyleModel",
            "description_width": "",
            "_view_module": "@jupyter-widgets/base",
            "_model_module_version": "1.5.0",
            "_view_count": null,
            "_view_module_version": "1.2.0",
            "_model_module": "@jupyter-widgets/controls"
          }
        },
        "9d0699dabbfe4859989b420f37dc986c": {
          "model_module": "@jupyter-widgets/base",
          "model_name": "LayoutModel",
          "state": {
            "_view_name": "LayoutView",
            "grid_template_rows": null,
            "right": null,
            "justify_content": null,
            "_view_module": "@jupyter-widgets/base",
            "overflow": null,
            "_model_module_version": "1.2.0",
            "_view_count": null,
            "flex_flow": null,
            "width": null,
            "min_width": null,
            "border": null,
            "align_items": null,
            "bottom": null,
            "_model_module": "@jupyter-widgets/base",
            "top": null,
            "grid_column": null,
            "overflow_y": null,
            "overflow_x": null,
            "grid_auto_flow": null,
            "grid_area": null,
            "grid_template_columns": null,
            "flex": null,
            "_model_name": "LayoutModel",
            "justify_items": null,
            "grid_row": null,
            "max_height": null,
            "align_content": null,
            "visibility": null,
            "align_self": null,
            "height": null,
            "min_height": null,
            "padding": null,
            "grid_auto_rows": null,
            "grid_gap": null,
            "max_width": null,
            "order": null,
            "_view_module_version": "1.2.0",
            "grid_template_areas": null,
            "object_position": null,
            "object_fit": null,
            "grid_auto_columns": null,
            "margin": null,
            "display": null,
            "left": null
          }
        }
      }
    }
  },
  "cells": [
    {
      "cell_type": "code",
      "metadata": {
        "id": "sRomRioWUQwq"
      },
      "source": [
        "import pandas as pd"
      ],
      "execution_count": null,
      "outputs": []
    },
    {
      "cell_type": "markdown",
      "metadata": {
        "id": "l3j88PuI_mGy"
      },
      "source": [
        "# Мердж таблиц"
      ]
    },
    {
      "cell_type": "markdown",
      "metadata": {
        "id": "_aAr6PQramLf"
      },
      "source": [
        "Таблица со всей статистикой игроков."
      ]
    },
    {
      "cell_type": "code",
      "metadata": {
        "id": "Rr0vP-0nUb4i",
        "colab": {
          "base_uri": "https://localhost:8080/"
        },
        "outputId": "25c9739f-e31e-438e-b8fb-699202031fe7"
      },
      "source": [
        "player_stats = pd.read_csv('/content/drive/MyDrive/xg_project/Players data 3.csv')\n",
        "player_stats.replace(',','', regex=True, inplace=True) # В столбце с минутами тысячи отделены запятыми, удаляем их и кастим к флоату\n",
        "player_stats['minutes'] = player_stats['minutes'].astype('float')"
      ],
      "execution_count": null,
      "outputs": [
        {
          "output_type": "stream",
          "text": [
            "/usr/local/lib/python3.7/dist-packages/IPython/core/interactiveshell.py:2718: DtypeWarning: Columns (195) have mixed types.Specify dtype option on import or set low_memory=False.\n",
            "  interactivity=interactivity, compiler=compiler, result=result)\n"
          ],
          "name": "stderr"
        }
      ]
    },
    {
      "cell_type": "markdown",
      "metadata": {
        "id": "_da4xUM143DW"
      },
      "source": [
        "Функция возвращающая список таблиц с трансферами для каждого игрока\n"
      ]
    },
    {
      "cell_type": "code",
      "metadata": {
        "id": "yevOzcTAVm9Q"
      },
      "source": [
        "def get_seasons(player, table, max_seasons, min_games):\n",
        "  \n",
        "  df = table[table['name'] == player].copy()\n",
        "  df['year'] = df['season'].astype(str).str[:4]\n",
        "  df['year'] = df['year'].astype('float64')\n",
        "  is_keeper = (df.iloc[-1,:]['all_goals_against_gk'] == df.iloc[-1,:]['all_goals_against_gk'])\n",
        "  if (is_keeper):\n",
        "    df = df[df['psxg_gk'] == df['psxg_gk']]\n",
        "  else:\n",
        "    df = df[df['xg'] == df['xg']]\n",
        "\n",
        "  df = df[df['comp_level'] != '1. MLS'] #убираем млс\n",
        "\n",
        "  #убрали сезоны с неполной статистикой\n",
        "  if (len(df['squad'].unique()) < 2):\n",
        "    print(\"Ошибка: Только одна команда со статистикой для \" + player)\n",
        "    return ([], is_keeper)\n",
        "  \n",
        "  # В начало таблицы могло попасть начало сезона в другой команде, по которой\n",
        "  # мало статистики, например Валенсия у Канселу, избавимся от этого\n",
        "  # НАДО ЗАМЕНИТЬ НА ОГРАНИЧЕНИЕ МИНИМАЛЬНОГО ЧИСЛА ИГР\n",
        "  # if (df.iloc[0,:]['age'] == df.iloc[1,:]['age']):\n",
        "    # df = df.iloc[1:,:]\n",
        "\n",
        "  # составим список всех трансферов\n",
        "  cur_team = df.iloc[0,:]['squad']\n",
        "  transfers = []\n",
        "  for i in range(1, len(df.index)):\n",
        "    new_team = df.iloc[i,:]['squad']\n",
        "    if (cur_team != new_team):\n",
        "      if (df.iloc[i,:]['Unnamed: 0'] - 1 == df.iloc[i - 1,:]['Unnamed: 0'] and df.iloc[i,:]['games'] >= min_games):\n",
        "        transfers.append(i)\n",
        "      cur_team = new_team\n",
        "\n",
        "  season_tables = [] #список с датафреймами для каждого трансфера игрока\n",
        "  for i in transfers:\n",
        "    old_team = df.iloc[i - 1,:]['squad']\n",
        "    old_age = df.iloc[i - 1,:]['age']\n",
        "    new_team = df.iloc[i,:]['squad']\n",
        "    new_age = df.iloc[i,:]['age']\n",
        "    l = i - 1\n",
        "    while (l > 0):\n",
        "      if (old_team != df.iloc[l - 1,:]['squad'] or old_age - 1 != df.iloc[l - 1,:]['age']):\n",
        "        break\n",
        "      l -= 1\n",
        "    r = i\n",
        "    while (r < len(df.index) - 1):\n",
        "      if (new_team != df.iloc[r + 1,:]['squad'] or new_age + 1 != df.iloc[r + 1,:]['age']):\n",
        "        break\n",
        "      r += 1\n",
        "    #обрежем, если взяли больше сезонов чем нужно\n",
        "    l = max(l, i - max_seasons)\n",
        "    r = min(r, i + max_seasons - 1)\n",
        "    season_tables.append(df.iloc[l:r + 1,:])\n",
        "  return (season_tables, is_keeper)\n",
        " "
      ],
      "execution_count": null,
      "outputs": []
    },
    {
      "cell_type": "markdown",
      "metadata": {
        "id": "jkvTBvV_5tRU"
      },
      "source": [
        "Строим списки датафреймов для каждого игрока, ограничиваем 1 годом до и после трансфера. Требуем минимум 10 игр после трансфера."
      ]
    },
    {
      "cell_type": "code",
      "metadata": {
        "id": "48NSv0MT5okK"
      },
      "source": [
        "players = list(player_stats.name.unique())\n",
        "field = []\n",
        "keepers = []\n",
        "for player in players:\n",
        "    transfers, is_keeper = get_seasons(player, player_stats, 1, 10)\n",
        "    if is_keeper:\n",
        "        for df in transfers:\n",
        "            keepers.append(df)\n",
        "    else:\n",
        "        for df in transfers:\n",
        "            field.append(df)"
      ],
      "execution_count": null,
      "outputs": []
    },
    {
      "cell_type": "markdown",
      "metadata": {
        "id": "EqkQqF9Vzpxd"
      },
      "source": [
        "Загрузим словарь соответствий имен игроков из таблиц fbref и transfermarkt"
      ]
    },
    {
      "cell_type": "code",
      "metadata": {
        "id": "sA4klQCjz5ii"
      },
      "source": [
        "names = pd.read_csv('/content/drive/MyDrive/xg_project/dict_names.csv')\n",
        "tmp = names.to_dict()\n",
        "dict_names = {}\n",
        "for key, value in tmp.items():\n",
        "  dict_names[key] = value[0]"
      ],
      "execution_count": null,
      "outputs": []
    },
    {
      "cell_type": "markdown",
      "metadata": {
        "id": "oQGOwOoRLbFf"
      },
      "source": [
        "По каким то причинам в словаре отсутствует Педро Порро, хотя он есть в обоих таблицах, добавим его вручную."
      ]
    },
    {
      "cell_type": "code",
      "metadata": {
        "id": "tZ8hjf1KLsoU"
      },
      "source": [
        "dict_names['Pedro Antonio Porro Sauceda'] = 'Pedro Porro'"
      ],
      "execution_count": null,
      "outputs": []
    },
    {
      "cell_type": "markdown",
      "metadata": {
        "id": "7w8d1YFS1-K1"
      },
      "source": [
        "Заменим имена игроков из таблицы с fbref на имена с трансфермакта:"
      ]
    },
    {
      "cell_type": "code",
      "metadata": {
        "colab": {
          "base_uri": "https://localhost:8080/",
          "height": 66,
          "referenced_widgets": [
            "30ad5668c7544d2b8342a7ca5c2fd369",
            "2943b08f26264210a5d7dd7f91459e50",
            "fc5d2726ec024405844f7aa519f623d6",
            "b8048af196084aaca3005d7a01f8d46f",
            "50909a9b75fa445b96659ebb3d19ed6c",
            "cf0a5bff2b234fa6b73800cea028d02e",
            "8c60c4d99b074e5fbf67a54928b31695",
            "99fb78d57b824b81a7379a5d8ce57a9a"
          ]
        },
        "id": "5oNcKs5u15dg",
        "outputId": "6a39479d-4a25-4b0e-9c1a-349a7a97b5bc"
      },
      "source": [
        "from tqdm.notebook import tqdm\n",
        "\n",
        "for df in tqdm(field):\n",
        "  df.replace({'name' : dict_names}, inplace= True)"
      ],
      "execution_count": null,
      "outputs": [
        {
          "output_type": "display_data",
          "data": {
            "application/vnd.jupyter.widget-view+json": {
              "model_id": "30ad5668c7544d2b8342a7ca5c2fd369",
              "version_minor": 0,
              "version_major": 2
            },
            "text/plain": [
              "HBox(children=(FloatProgress(value=0.0, max=906.0), HTML(value='')))"
            ]
          },
          "metadata": {
            "tags": []
          }
        },
        {
          "output_type": "stream",
          "text": [
            "\n"
          ],
          "name": "stdout"
        }
      ]
    },
    {
      "cell_type": "markdown",
      "metadata": {
        "id": "Hwa12PmX3XUA"
      },
      "source": [
        "Загрузим таблицу с данными о трансферах с трансфермаркта:"
      ]
    },
    {
      "cell_type": "code",
      "metadata": {
        "id": "Cm2tEi0x3W-G"
      },
      "source": [
        "transfers = pd.read_csv('/content/drive/MyDrive/xg_project/Transfers.csv')"
      ],
      "execution_count": null,
      "outputs": []
    },
    {
      "cell_type": "markdown",
      "metadata": {
        "id": "wwV20tV66KhE"
      },
      "source": [
        "Что бы не заморачиваться с мерджем просто составим словарь соответствий имен и позиций"
      ]
    },
    {
      "cell_type": "code",
      "metadata": {
        "id": "mNgl1pm7BA5I"
      },
      "source": [
        "positions = {}\n",
        "for i, row in transfers.iterrows():\n",
        "  positions[row.player_name] = row.position"
      ],
      "execution_count": null,
      "outputs": []
    },
    {
      "cell_type": "code",
      "metadata": {
        "colab": {
          "base_uri": "https://localhost:8080/",
          "height": 66,
          "referenced_widgets": [
            "bc9df8af196243d8acbdca1eb5318cfe",
            "5602dbc85c334921977e4d12230526a5",
            "2794671b9d95431db3c0a9875d813acf",
            "f284cc26cdbb4a95983d6bad3ca05b7f",
            "46d8ae0f0559443cb174b2e85e80373a",
            "fb416c2f83ff4486816bfcdfbb9592ac",
            "9d6281a3c31447fc944c7644a73b586b",
            "8c4cb52330f541028c521b32cc84b3ed"
          ]
        },
        "id": "8xgT5y8BIAMi",
        "outputId": "4fc15451-7db3-4d94-b367-eecdb32e4712"
      },
      "source": [
        "count = 0\n",
        "for df in tqdm(field):\n",
        "  position = positions[df.iloc[0]['name']]\n",
        "  df['position'] = position"
      ],
      "execution_count": null,
      "outputs": [
        {
          "output_type": "display_data",
          "data": {
            "application/vnd.jupyter.widget-view+json": {
              "model_id": "bc9df8af196243d8acbdca1eb5318cfe",
              "version_minor": 0,
              "version_major": 2
            },
            "text/plain": [
              "HBox(children=(FloatProgress(value=0.0, max=906.0), HTML(value='')))"
            ]
          },
          "metadata": {
            "tags": []
          }
        },
        {
          "output_type": "stream",
          "text": [
            "\n"
          ],
          "name": "stdout"
        }
      ]
    },
    {
      "cell_type": "markdown",
      "metadata": {
        "id": "WDcPJ2oWEHsr"
      },
      "source": [
        "Импортируем статистику клубов"
      ]
    },
    {
      "cell_type": "code",
      "metadata": {
        "id": "et0eic2w7QQW"
      },
      "source": [
        "team_stats1 = pd.read_csv('/content/drive/MyDrive/xg_project/team_stats1.csv')\n",
        "team_stats2 = pd.read_csv('/content/drive/MyDrive/xg_project/team_stats2.csv')\n",
        "team_stats3 = pd.read_csv('/content/drive/MyDrive/xg_project/team_stats3.csv')\n",
        "team_stats4 = pd.read_csv('/content/drive/MyDrive/xg_project/team_stats4.csv')\n",
        "team_stats = pd.concat([team_stats1, team_stats2, team_stats3, team_stats4])"
      ],
      "execution_count": null,
      "outputs": []
    },
    {
      "cell_type": "code",
      "metadata": {
        "id": "cryMvJJGEAWA"
      },
      "source": [
        "team_stats"
      ],
      "execution_count": null,
      "outputs": []
    },
    {
      "cell_type": "markdown",
      "metadata": {
        "id": "t6DHZuJfkmEd"
      },
      "source": [
        "Функция для получения названий команд до и после трансфера, года последнего сезона в старой команде и окна трансфера. Летний трансфер может считатьс за зимний, если игрок успел провести несколько матчей за старую команду до трансфера."
      ]
    },
    {
      "cell_type": "code",
      "metadata": {
        "id": "jC5tlZZPAj67"
      },
      "source": [
        "def get_info(table):\n",
        "  # возвращает (название 1 команды, название 2 команды, год начала статистики, последний год в первой команде, окно трансфера (1 если зимний))\n",
        "  y = table.iloc[0]['year']\n",
        "  y0 = y\n",
        "  team1 = table.iloc[0]['squad']\n",
        "  i = 0;\n",
        "  while (table.iloc[i]['squad'] == team1):\n",
        "    y = table.iloc[i]['year']\n",
        "    i += 1\n",
        "  team2 = table.iloc[i]['squad']\n",
        "  winter = (y == table.iloc[i]['year'])\n",
        "  return (team1, team2, y0, y, winter)"
      ],
      "execution_count": null,
      "outputs": []
    },
    {
      "cell_type": "code",
      "metadata": {
        "colab": {
          "base_uri": "https://localhost:8080/"
        },
        "id": "mJ1y7SNulPEi",
        "outputId": "44ef8b28-6fa3-467a-d156-14718dd35ff2"
      },
      "source": [
        "print(get_info(field[701]))"
      ],
      "execution_count": null,
      "outputs": [
        {
          "output_type": "stream",
          "text": [
            "('Atalanta', 'Milan', 2019.0, 2019.0, True)\n"
          ],
          "name": "stdout"
        }
      ]
    },
    {
      "cell_type": "markdown",
      "metadata": {
        "id": "pHD5yEuAENUN"
      },
      "source": [
        "Функция для получения нужных таблиц с командной статистикой"
      ]
    },
    {
      "cell_type": "code",
      "metadata": {
        "id": "7zseX9D1EMs2"
      },
      "source": [
        "def get_tables(table):\n",
        "  t1, t2, y0, y, is_win = get_info(table)\n",
        "  df1 = team_stats[team_stats['team'] == t1]\n",
        "  df1 = df1[(df1['year'] >= y0) & (df1['year'] <= y)]\n",
        "  df2 = team_stats[team_stats['team'] == t2]\n",
        "  df2 = df2[(df2['year'] >= y0) & (df2['year'] <= y)]\n",
        "  return [df1, df2]"
      ],
      "execution_count": null,
      "outputs": []
    },
    {
      "cell_type": "markdown",
      "metadata": {
        "id": "0SRgrPA8OPI-"
      },
      "source": [
        "Функция Акима, которая мерджит статистику игрока и команд для каждого трансфера"
      ]
    },
    {
      "cell_type": "code",
      "metadata": {
        "colab": {
          "base_uri": "https://localhost:8080/",
          "height": 383,
          "referenced_widgets": [
            "50fb61ea3a534e60ac95613445d92791",
            "c6e64d973d3a414aa83febab5afdbcc5",
            "d3aaf78507cb4934be07472453b1b99d",
            "8e8a51c492bf4cb89a1217e9a8f8f75a",
            "68c4290bc57c4974b3c8665a2c1d7fbb",
            "5ede12cdb69d4914a0ffe33bd32c8147",
            "f432dbe1581e405e8bbb2125ee9bc01c",
            "9d0699dabbfe4859989b420f37dc986c"
          ]
        },
        "id": "AYDlWaODN4eg",
        "outputId": "834161c1-6442-4b06-e9e6-a37c4e140718"
      },
      "source": [
        "from tqdm.notebook import tqdm\n",
        "\n",
        "merge_table = pd.DataFrame()\n",
        "for i, observation in enumerate(tqdm(field)):\n",
        "\n",
        "    # Check there are no missing seasons\n",
        "    if observation.year.values[1] - observation.year.values[0] > 1:\n",
        "        continue\n",
        "\n",
        "    old, new = get_tables(observation)\n",
        "    old.columns = [x + '_old' for x in old.columns]\n",
        "    new.columns = [x + '_new' for x in new.columns]\n",
        "\n",
        "    old.reset_index(drop=True, inplace=True)\n",
        "    new.reset_index(drop=True, inplace=True)\n",
        "\n",
        "    club_features = pd.concat([old, new], axis=1)\n",
        "    # club_features = pd.DataFrame(club_features.mean()).T\n",
        "    club_features['year'] = club_features['year_old']\n",
        "    club_features['predict_year'] = club_features['year_old']\n",
        "\n",
        "    if get_info(observation)[-1] != 1:\n",
        "        observation['predict_year'] = observation['year'] - 1\n",
        "        merge_before_target = club_features.merge(observation.drop(columns='predict_year'), on=['year'], how='left')\n",
        "        merge = merge_before_target.merge(observation.drop(columns='year'), on=['predict_year'], how='left')\n",
        "    else:\n",
        "      merge_before_target = club_features.merge(observation.iloc[:1], on=['year'], how='left')\n",
        "      merge = merge_before_target.merge(observation.iloc[1:], on=['year'], how='left')\n",
        "\n",
        "    merge_table = merge_table.append(merge)\n",
        "\n",
        "    if merge['sca_per90_y'].isnull().sum() > 0:\n",
        "      print(i, observation[['name', 'squad', 'year']])\n",
        "\n",
        "# merge_table.drop(columns = ['year_old', 'year_new', 'predict_year'], inplace=True)\n",
        "\n",
        "merge_table.head()"
      ],
      "execution_count": null,
      "outputs": [
        {
          "output_type": "display_data",
          "data": {
            "application/vnd.jupyter.widget-view+json": {
              "model_id": "50fb61ea3a534e60ac95613445d92791",
              "version_minor": 0,
              "version_major": 2
            },
            "text/plain": [
              "HBox(children=(FloatProgress(value=0.0, max=906.0), HTML(value='')))"
            ]
          },
          "metadata": {
            "tags": []
          }
        },
        {
          "output_type": "stream",
          "text": [
            "\n"
          ],
          "name": "stdout"
        },
        {
          "output_type": "execute_result",
          "data": {
            "text/html": [
              "<div>\n",
              "<style scoped>\n",
              "    .dataframe tbody tr th:only-of-type {\n",
              "        vertical-align: middle;\n",
              "    }\n",
              "\n",
              "    .dataframe tbody tr th {\n",
              "        vertical-align: top;\n",
              "    }\n",
              "\n",
              "    .dataframe thead th {\n",
              "        text-align: right;\n",
              "    }\n",
              "</style>\n",
              "<table border=\"1\" class=\"dataframe\">\n",
              "  <thead>\n",
              "    <tr style=\"text-align: right;\">\n",
              "      <th></th>\n",
              "      <th>team_old</th>\n",
              "      <th>year_old</th>\n",
              "      <th>result_old</th>\n",
              "      <th>goals_for_old</th>\n",
              "      <th>goals_against_old</th>\n",
              "      <th>xg_for_old</th>\n",
              "      <th>xg_against_old</th>\n",
              "      <th>possession_old</th>\n",
              "      <th>shots_on_target_against_old</th>\n",
              "      <th>goals_against_gk_old</th>\n",
              "      <th>saves_old</th>\n",
              "      <th>save_pct_old</th>\n",
              "      <th>clean_sheets_old</th>\n",
              "      <th>psxg_gk_old</th>\n",
              "      <th>psxg_net_gk_old</th>\n",
              "      <th>pens_att_gk_old</th>\n",
              "      <th>pens_allowed_old</th>\n",
              "      <th>pens_saved_old</th>\n",
              "      <th>pens_missed_gk_old</th>\n",
              "      <th>passes_completed_launched_gk_old</th>\n",
              "      <th>passes_launched_gk_old</th>\n",
              "      <th>passes_pct_launched_gk_old</th>\n",
              "      <th>passes_gk_old</th>\n",
              "      <th>passes_throws_gk_old</th>\n",
              "      <th>pct_passes_launched_gk_old</th>\n",
              "      <th>passes_length_avg_gk_old</th>\n",
              "      <th>goal_kicks_old</th>\n",
              "      <th>pct_goal_kicks_launched_old</th>\n",
              "      <th>goal_kick_length_avg_old</th>\n",
              "      <th>crosses_gk_old</th>\n",
              "      <th>crosses_stopped_gk_old</th>\n",
              "      <th>crosses_stopped_pct_gk_old</th>\n",
              "      <th>def_actions_outside_pen_area_gk_old</th>\n",
              "      <th>avg_distance_def_actions_gk_old</th>\n",
              "      <th>goals_old</th>\n",
              "      <th>shots_total_old</th>\n",
              "      <th>shots_on_target_old</th>\n",
              "      <th>shots_on_target_pct_old</th>\n",
              "      <th>goals_per_shot_old</th>\n",
              "      <th>goals_per_shot_on_target_old</th>\n",
              "      <th>...</th>\n",
              "      <th>losses_gk_y</th>\n",
              "      <th>clean_sheets_y</th>\n",
              "      <th>clean_sheets_pct_y</th>\n",
              "      <th>pens_att_gk_y</th>\n",
              "      <th>pens_allowed_y</th>\n",
              "      <th>pens_saved_y</th>\n",
              "      <th>pens_missed_gk_y</th>\n",
              "      <th>pens_save_pct_y</th>\n",
              "      <th>free_kick_goals_against_gk_y</th>\n",
              "      <th>corner_kick_goals_against_gk_y</th>\n",
              "      <th>own_goals_against_gk_y</th>\n",
              "      <th>psxg_gk_y</th>\n",
              "      <th>psnpxg_per_shot_on_target_against_y</th>\n",
              "      <th>psxg_net_gk_y</th>\n",
              "      <th>psxg_net_per90_gk_y</th>\n",
              "      <th>passes_completed_launched_gk_y</th>\n",
              "      <th>passes_launched_gk_y</th>\n",
              "      <th>passes_pct_launched_gk_y</th>\n",
              "      <th>passes_gk_y</th>\n",
              "      <th>passes_throws_gk_y</th>\n",
              "      <th>pct_passes_launched_gk_y</th>\n",
              "      <th>passes_length_avg_gk_y</th>\n",
              "      <th>goal_kicks_y</th>\n",
              "      <th>pct_goal_kicks_launched_y</th>\n",
              "      <th>goal_kick_length_avg_y</th>\n",
              "      <th>crosses_gk_y</th>\n",
              "      <th>crosses_stopped_gk_y</th>\n",
              "      <th>crosses_stopped_pct_gk_y</th>\n",
              "      <th>def_actions_outside_pen_area_gk_y</th>\n",
              "      <th>def_actions_outside_pen_area_per90_gk_y</th>\n",
              "      <th>avg_distance_def_actions_gk_y</th>\n",
              "      <th>dom_lg_goals_against_gk_y</th>\n",
              "      <th>dom_lg_clean_sheets_y</th>\n",
              "      <th>dom_cup_goals_against_gk_y</th>\n",
              "      <th>dom_cup_clean_sheets_y</th>\n",
              "      <th>intl_cup_goals_against_gk_y</th>\n",
              "      <th>intl_cup_clean_sheets_y</th>\n",
              "      <th>all_goals_against_gk_y</th>\n",
              "      <th>all_clean_sheets_y</th>\n",
              "      <th>position_y</th>\n",
              "    </tr>\n",
              "  </thead>\n",
              "  <tbody>\n",
              "    <tr>\n",
              "      <th>0</th>\n",
              "      <td>Huddersfield</td>\n",
              "      <td>2018</td>\n",
              "      <td>0.421053</td>\n",
              "      <td>0.578947</td>\n",
              "      <td>2.000000</td>\n",
              "      <td>0.760526</td>\n",
              "      <td>1.671053</td>\n",
              "      <td>47.026316</td>\n",
              "      <td>4.657895</td>\n",
              "      <td>2.000000</td>\n",
              "      <td>2.842105</td>\n",
              "      <td>58.763889</td>\n",
              "      <td>0.157895</td>\n",
              "      <td>1.655263</td>\n",
              "      <td>-0.318421</td>\n",
              "      <td>0.210526</td>\n",
              "      <td>0.184211</td>\n",
              "      <td>0.026316</td>\n",
              "      <td>0.000000</td>\n",
              "      <td>9.763158</td>\n",
              "      <td>23.236842</td>\n",
              "      <td>42.263158</td>\n",
              "      <td>28.000000</td>\n",
              "      <td>2.789474</td>\n",
              "      <td>63.926316</td>\n",
              "      <td>47.468421</td>\n",
              "      <td>6.947368</td>\n",
              "      <td>76.984211</td>\n",
              "      <td>58.386842</td>\n",
              "      <td>7.421053</td>\n",
              "      <td>0.842105</td>\n",
              "      <td>10.875676</td>\n",
              "      <td>0.605263</td>\n",
              "      <td>14.326316</td>\n",
              "      <td>0.526316</td>\n",
              "      <td>10.526316</td>\n",
              "      <td>3.105263</td>\n",
              "      <td>29.728947</td>\n",
              "      <td>0.043421</td>\n",
              "      <td>0.173784</td>\n",
              "      <td>...</td>\n",
              "      <td>NaN</td>\n",
              "      <td>NaN</td>\n",
              "      <td>NaN</td>\n",
              "      <td>NaN</td>\n",
              "      <td>NaN</td>\n",
              "      <td>NaN</td>\n",
              "      <td>NaN</td>\n",
              "      <td>NaN</td>\n",
              "      <td>NaN</td>\n",
              "      <td>NaN</td>\n",
              "      <td>NaN</td>\n",
              "      <td>NaN</td>\n",
              "      <td>NaN</td>\n",
              "      <td>NaN</td>\n",
              "      <td>NaN</td>\n",
              "      <td>NaN</td>\n",
              "      <td>NaN</td>\n",
              "      <td>NaN</td>\n",
              "      <td>NaN</td>\n",
              "      <td>NaN</td>\n",
              "      <td>NaN</td>\n",
              "      <td>NaN</td>\n",
              "      <td>NaN</td>\n",
              "      <td>NaN</td>\n",
              "      <td>NaN</td>\n",
              "      <td>NaN</td>\n",
              "      <td>NaN</td>\n",
              "      <td>NaN</td>\n",
              "      <td>NaN</td>\n",
              "      <td>NaN</td>\n",
              "      <td>NaN</td>\n",
              "      <td>NaN</td>\n",
              "      <td>NaN</td>\n",
              "      <td>NaN</td>\n",
              "      <td>NaN</td>\n",
              "      <td>NaN</td>\n",
              "      <td>NaN</td>\n",
              "      <td>NaN</td>\n",
              "      <td>NaN</td>\n",
              "      <td>Attacking Midfield</td>\n",
              "    </tr>\n",
              "    <tr>\n",
              "      <th>0</th>\n",
              "      <td>Saint-Étienne</td>\n",
              "      <td>2019</td>\n",
              "      <td>1.000000</td>\n",
              "      <td>1.029412</td>\n",
              "      <td>1.558824</td>\n",
              "      <td>0.985294</td>\n",
              "      <td>1.158824</td>\n",
              "      <td>49.205882</td>\n",
              "      <td>3.911765</td>\n",
              "      <td>1.558824</td>\n",
              "      <td>2.500000</td>\n",
              "      <td>58.260606</td>\n",
              "      <td>0.176471</td>\n",
              "      <td>1.402941</td>\n",
              "      <td>-0.097059</td>\n",
              "      <td>0.176471</td>\n",
              "      <td>0.147059</td>\n",
              "      <td>0.000000</td>\n",
              "      <td>0.029412</td>\n",
              "      <td>6.029412</td>\n",
              "      <td>15.764706</td>\n",
              "      <td>41.912121</td>\n",
              "      <td>22.235294</td>\n",
              "      <td>3.794118</td>\n",
              "      <td>47.944118</td>\n",
              "      <td>39.379412</td>\n",
              "      <td>7.617647</td>\n",
              "      <td>61.405882</td>\n",
              "      <td>46.767647</td>\n",
              "      <td>6.823529</td>\n",
              "      <td>0.294118</td>\n",
              "      <td>4.635294</td>\n",
              "      <td>0.411765</td>\n",
              "      <td>13.817647</td>\n",
              "      <td>0.970588</td>\n",
              "      <td>10.882353</td>\n",
              "      <td>3.294118</td>\n",
              "      <td>31.411765</td>\n",
              "      <td>0.078235</td>\n",
              "      <td>0.233939</td>\n",
              "      <td>...</td>\n",
              "      <td>NaN</td>\n",
              "      <td>NaN</td>\n",
              "      <td>NaN</td>\n",
              "      <td>NaN</td>\n",
              "      <td>NaN</td>\n",
              "      <td>NaN</td>\n",
              "      <td>NaN</td>\n",
              "      <td>NaN</td>\n",
              "      <td>NaN</td>\n",
              "      <td>NaN</td>\n",
              "      <td>NaN</td>\n",
              "      <td>NaN</td>\n",
              "      <td>NaN</td>\n",
              "      <td>NaN</td>\n",
              "      <td>NaN</td>\n",
              "      <td>NaN</td>\n",
              "      <td>NaN</td>\n",
              "      <td>NaN</td>\n",
              "      <td>NaN</td>\n",
              "      <td>NaN</td>\n",
              "      <td>NaN</td>\n",
              "      <td>NaN</td>\n",
              "      <td>NaN</td>\n",
              "      <td>NaN</td>\n",
              "      <td>NaN</td>\n",
              "      <td>NaN</td>\n",
              "      <td>NaN</td>\n",
              "      <td>NaN</td>\n",
              "      <td>NaN</td>\n",
              "      <td>NaN</td>\n",
              "      <td>NaN</td>\n",
              "      <td>NaN</td>\n",
              "      <td>NaN</td>\n",
              "      <td>NaN</td>\n",
              "      <td>NaN</td>\n",
              "      <td>NaN</td>\n",
              "      <td>NaN</td>\n",
              "      <td>NaN</td>\n",
              "      <td>NaN</td>\n",
              "      <td>Right Winger</td>\n",
              "    </tr>\n",
              "    <tr>\n",
              "      <th>0</th>\n",
              "      <td>Köln</td>\n",
              "      <td>2017</td>\n",
              "      <td>0.700000</td>\n",
              "      <td>1.050000</td>\n",
              "      <td>1.950000</td>\n",
              "      <td>1.244118</td>\n",
              "      <td>2.000000</td>\n",
              "      <td>47.875000</td>\n",
              "      <td>5.625000</td>\n",
              "      <td>1.950000</td>\n",
              "      <td>3.875000</td>\n",
              "      <td>70.137500</td>\n",
              "      <td>0.150000</td>\n",
              "      <td>2.100000</td>\n",
              "      <td>0.041176</td>\n",
              "      <td>0.225000</td>\n",
              "      <td>0.200000</td>\n",
              "      <td>0.025000</td>\n",
              "      <td>0.000000</td>\n",
              "      <td>8.617647</td>\n",
              "      <td>22.205882</td>\n",
              "      <td>37.164706</td>\n",
              "      <td>22.764706</td>\n",
              "      <td>2.411765</td>\n",
              "      <td>67.044118</td>\n",
              "      <td>49.261765</td>\n",
              "      <td>8.205882</td>\n",
              "      <td>86.376471</td>\n",
              "      <td>61.352941</td>\n",
              "      <td>10.882353</td>\n",
              "      <td>0.823529</td>\n",
              "      <td>8.735294</td>\n",
              "      <td>0.970588</td>\n",
              "      <td>15.794118</td>\n",
              "      <td>1.000000</td>\n",
              "      <td>11.925000</td>\n",
              "      <td>3.750000</td>\n",
              "      <td>31.462500</td>\n",
              "      <td>0.081250</td>\n",
              "      <td>0.293590</td>\n",
              "      <td>...</td>\n",
              "      <td>NaN</td>\n",
              "      <td>NaN</td>\n",
              "      <td>NaN</td>\n",
              "      <td>NaN</td>\n",
              "      <td>NaN</td>\n",
              "      <td>NaN</td>\n",
              "      <td>NaN</td>\n",
              "      <td>NaN</td>\n",
              "      <td>NaN</td>\n",
              "      <td>NaN</td>\n",
              "      <td>NaN</td>\n",
              "      <td>NaN</td>\n",
              "      <td>NaN</td>\n",
              "      <td>NaN</td>\n",
              "      <td>NaN</td>\n",
              "      <td>NaN</td>\n",
              "      <td>NaN</td>\n",
              "      <td>NaN</td>\n",
              "      <td>NaN</td>\n",
              "      <td>NaN</td>\n",
              "      <td>NaN</td>\n",
              "      <td>NaN</td>\n",
              "      <td>NaN</td>\n",
              "      <td>NaN</td>\n",
              "      <td>NaN</td>\n",
              "      <td>NaN</td>\n",
              "      <td>NaN</td>\n",
              "      <td>NaN</td>\n",
              "      <td>NaN</td>\n",
              "      <td>NaN</td>\n",
              "      <td>NaN</td>\n",
              "      <td>NaN</td>\n",
              "      <td>NaN</td>\n",
              "      <td>NaN</td>\n",
              "      <td>NaN</td>\n",
              "      <td>NaN</td>\n",
              "      <td>NaN</td>\n",
              "      <td>NaN</td>\n",
              "      <td>NaN</td>\n",
              "      <td>Centre-Back</td>\n",
              "    </tr>\n",
              "    <tr>\n",
              "      <th>0</th>\n",
              "      <td>Huesca</td>\n",
              "      <td>2018</td>\n",
              "      <td>0.868421</td>\n",
              "      <td>1.131579</td>\n",
              "      <td>1.710526</td>\n",
              "      <td>1.210526</td>\n",
              "      <td>1.500000</td>\n",
              "      <td>44.684211</td>\n",
              "      <td>4.394737</td>\n",
              "      <td>1.710526</td>\n",
              "      <td>2.947368</td>\n",
              "      <td>64.672973</td>\n",
              "      <td>0.157895</td>\n",
              "      <td>1.536842</td>\n",
              "      <td>-0.094737</td>\n",
              "      <td>0.236842</td>\n",
              "      <td>0.236842</td>\n",
              "      <td>0.000000</td>\n",
              "      <td>0.000000</td>\n",
              "      <td>8.815789</td>\n",
              "      <td>22.684211</td>\n",
              "      <td>38.797368</td>\n",
              "      <td>20.368421</td>\n",
              "      <td>2.000000</td>\n",
              "      <td>73.744737</td>\n",
              "      <td>52.931579</td>\n",
              "      <td>8.052632</td>\n",
              "      <td>91.155263</td>\n",
              "      <td>64.594737</td>\n",
              "      <td>9.157895</td>\n",
              "      <td>0.500000</td>\n",
              "      <td>6.007895</td>\n",
              "      <td>0.342105</td>\n",
              "      <td>12.913158</td>\n",
              "      <td>1.131579</td>\n",
              "      <td>12.368421</td>\n",
              "      <td>3.684211</td>\n",
              "      <td>30.436842</td>\n",
              "      <td>0.085789</td>\n",
              "      <td>0.260278</td>\n",
              "      <td>...</td>\n",
              "      <td>NaN</td>\n",
              "      <td>NaN</td>\n",
              "      <td>NaN</td>\n",
              "      <td>NaN</td>\n",
              "      <td>NaN</td>\n",
              "      <td>NaN</td>\n",
              "      <td>NaN</td>\n",
              "      <td>NaN</td>\n",
              "      <td>NaN</td>\n",
              "      <td>NaN</td>\n",
              "      <td>NaN</td>\n",
              "      <td>NaN</td>\n",
              "      <td>NaN</td>\n",
              "      <td>NaN</td>\n",
              "      <td>NaN</td>\n",
              "      <td>NaN</td>\n",
              "      <td>NaN</td>\n",
              "      <td>NaN</td>\n",
              "      <td>NaN</td>\n",
              "      <td>NaN</td>\n",
              "      <td>NaN</td>\n",
              "      <td>NaN</td>\n",
              "      <td>NaN</td>\n",
              "      <td>NaN</td>\n",
              "      <td>NaN</td>\n",
              "      <td>NaN</td>\n",
              "      <td>NaN</td>\n",
              "      <td>NaN</td>\n",
              "      <td>NaN</td>\n",
              "      <td>NaN</td>\n",
              "      <td>NaN</td>\n",
              "      <td>NaN</td>\n",
              "      <td>NaN</td>\n",
              "      <td>NaN</td>\n",
              "      <td>NaN</td>\n",
              "      <td>NaN</td>\n",
              "      <td>NaN</td>\n",
              "      <td>NaN</td>\n",
              "      <td>NaN</td>\n",
              "      <td>Central Midfield</td>\n",
              "    </tr>\n",
              "    <tr>\n",
              "      <th>0</th>\n",
              "      <td>Sampdoria</td>\n",
              "      <td>2018</td>\n",
              "      <td>1.394737</td>\n",
              "      <td>1.578947</td>\n",
              "      <td>1.342105</td>\n",
              "      <td>1.310526</td>\n",
              "      <td>1.392105</td>\n",
              "      <td>55.105263</td>\n",
              "      <td>3.789474</td>\n",
              "      <td>1.368421</td>\n",
              "      <td>2.631579</td>\n",
              "      <td>66.968571</td>\n",
              "      <td>0.342105</td>\n",
              "      <td>1.355263</td>\n",
              "      <td>0.039474</td>\n",
              "      <td>0.210526</td>\n",
              "      <td>0.184211</td>\n",
              "      <td>0.026316</td>\n",
              "      <td>0.000000</td>\n",
              "      <td>4.131579</td>\n",
              "      <td>12.052632</td>\n",
              "      <td>35.886486</td>\n",
              "      <td>24.000000</td>\n",
              "      <td>5.105263</td>\n",
              "      <td>30.700000</td>\n",
              "      <td>31.078947</td>\n",
              "      <td>8.157895</td>\n",
              "      <td>48.436842</td>\n",
              "      <td>40.802632</td>\n",
              "      <td>10.578947</td>\n",
              "      <td>0.894737</td>\n",
              "      <td>7.213158</td>\n",
              "      <td>0.657895</td>\n",
              "      <td>14.745946</td>\n",
              "      <td>1.578947</td>\n",
              "      <td>12.605263</td>\n",
              "      <td>4.421053</td>\n",
              "      <td>35.457895</td>\n",
              "      <td>0.115000</td>\n",
              "      <td>0.289737</td>\n",
              "      <td>...</td>\n",
              "      <td>NaN</td>\n",
              "      <td>NaN</td>\n",
              "      <td>NaN</td>\n",
              "      <td>NaN</td>\n",
              "      <td>NaN</td>\n",
              "      <td>NaN</td>\n",
              "      <td>NaN</td>\n",
              "      <td>NaN</td>\n",
              "      <td>NaN</td>\n",
              "      <td>NaN</td>\n",
              "      <td>NaN</td>\n",
              "      <td>NaN</td>\n",
              "      <td>NaN</td>\n",
              "      <td>NaN</td>\n",
              "      <td>NaN</td>\n",
              "      <td>NaN</td>\n",
              "      <td>NaN</td>\n",
              "      <td>NaN</td>\n",
              "      <td>NaN</td>\n",
              "      <td>NaN</td>\n",
              "      <td>NaN</td>\n",
              "      <td>NaN</td>\n",
              "      <td>NaN</td>\n",
              "      <td>NaN</td>\n",
              "      <td>NaN</td>\n",
              "      <td>NaN</td>\n",
              "      <td>NaN</td>\n",
              "      <td>NaN</td>\n",
              "      <td>NaN</td>\n",
              "      <td>NaN</td>\n",
              "      <td>NaN</td>\n",
              "      <td>NaN</td>\n",
              "      <td>NaN</td>\n",
              "      <td>NaN</td>\n",
              "      <td>NaN</td>\n",
              "      <td>NaN</td>\n",
              "      <td>NaN</td>\n",
              "      <td>NaN</td>\n",
              "      <td>NaN</td>\n",
              "      <td>Central Midfield</td>\n",
              "    </tr>\n",
              "  </tbody>\n",
              "</table>\n",
              "<p>5 rows × 834 columns</p>\n",
              "</div>"
            ],
            "text/plain": [
              "        team_old  year_old  ...  all_clean_sheets_y          position_y\n",
              "0   Huddersfield      2018  ...                 NaN  Attacking Midfield\n",
              "0  Saint-Étienne      2019  ...                 NaN        Right Winger\n",
              "0           Köln      2017  ...                 NaN         Centre-Back\n",
              "0         Huesca      2018  ...                 NaN    Central Midfield\n",
              "0      Sampdoria      2018  ...                 NaN    Central Midfield\n",
              "\n",
              "[5 rows x 834 columns]"
            ]
          },
          "metadata": {
            "tags": []
          },
          "execution_count": 93
        }
      ]
    },
    {
      "cell_type": "markdown",
      "metadata": {
        "id": "MGwIL2MVW9xJ"
      },
      "source": [
        "У некоторых трансферов нет статистики у новой команды:"
      ]
    },
    {
      "cell_type": "code",
      "metadata": {
        "id": "ebxAV-kKMwRz"
      },
      "source": [
        "df = merge_table.loc[:, columns].dropna(subset=['possession_new'])"
      ],
      "execution_count": null,
      "outputs": []
    },
    {
      "cell_type": "code",
      "metadata": {
        "colab": {
          "base_uri": "https://localhost:8080/"
        },
        "id": "ifuf03xfM83J",
        "outputId": "71c43e5a-03f1-4efe-cdce-8a6852ae7a5c"
      },
      "source": [
        "merge_table.shape, df.shape"
      ],
      "execution_count": null,
      "outputs": [
        {
          "output_type": "execute_result",
          "data": {
            "text/plain": [
              "((904, 834), (788, 16))"
            ]
          },
          "metadata": {
            "tags": []
          },
          "execution_count": 137
        }
      ]
    },
    {
      "cell_type": "markdown",
      "metadata": {
        "id": "awIk-Id2ZXPX"
      },
      "source": [
        "# Модель Акима"
      ]
    },
    {
      "cell_type": "code",
      "metadata": {
        "id": "30zqIE83Q-FM"
      },
      "source": [
        "from sklearn.model_selection import train_test_split\n",
        "import lightgbm as lgb"
      ],
      "execution_count": null,
      "outputs": []
    },
    {
      "cell_type": "code",
      "metadata": {
        "id": "p25qG30BPg4M"
      },
      "source": [
        "club_features   = ['possession', 'npxg', 'xg_against', 'passes_pct', 'touches']\n",
        "player_features = ['minutes_90s', 'goals_per90', 'assists_per90', 'sca_per90', 'gca_per90']"
      ],
      "execution_count": null,
      "outputs": []
    },
    {
      "cell_type": "code",
      "metadata": {
        "id": "9LfH-o1zQzn7"
      },
      "source": [
        "columns = [x + '_old' for x in club_features] + [x + '_new' for x in club_features] + [x + '_x' for x in player_features] + ['sca_per90_y']"
      ],
      "execution_count": null,
      "outputs": []
    },
    {
      "cell_type": "code",
      "metadata": {
        "colab": {
          "base_uri": "https://localhost:8080/"
        },
        "id": "8Yv8c38BRKL0",
        "outputId": "40811fc8-677d-47ca-95c5-0d3e8a731676"
      },
      "source": [
        "[x for x in old.columns if 'xg' in x]"
      ],
      "execution_count": null,
      "outputs": [
        {
          "output_type": "execute_result",
          "data": {
            "text/plain": [
              "['xg_for_old',\n",
              " 'xg_against_old',\n",
              " 'psxg_gk_old',\n",
              " 'psxg_net_gk_old',\n",
              " 'xg_old',\n",
              " 'npxg_old',\n",
              " 'npxg_per_shot_old',\n",
              " 'xg_net_old',\n",
              " 'npxg_net_old']"
            ]
          },
          "metadata": {
            "tags": []
          },
          "execution_count": 123
        }
      ]
    },
    {
      "cell_type": "code",
      "metadata": {
        "id": "d81aHvj-NEwh"
      },
      "source": [
        "df = merge_table.loc[:, columns].dropna(subset=['sca_per90_y', 'possession_new'])"
      ],
      "execution_count": null,
      "outputs": []
    },
    {
      "cell_type": "code",
      "metadata": {
        "id": "0nVbHCDwO7rP"
      },
      "source": [
        "train, valid_plus_test = train_test_split(df, random_state=2021, test_size=0.3)\n",
        "val, test = train_test_split(valid_plus_test, random_state=2021, test_size=0.67)"
      ],
      "execution_count": null,
      "outputs": []
    },
    {
      "cell_type": "code",
      "metadata": {
        "colab": {
          "base_uri": "https://localhost:8080/",
          "height": 428
        },
        "id": "0ynHOReLRnZv",
        "outputId": "bc7652ea-514b-470c-e538-c9c3656e226d"
      },
      "source": [
        "val"
      ],
      "execution_count": null,
      "outputs": [
        {
          "output_type": "execute_result",
          "data": {
            "text/html": [
              "<div>\n",
              "<style scoped>\n",
              "    .dataframe tbody tr th:only-of-type {\n",
              "        vertical-align: middle;\n",
              "    }\n",
              "\n",
              "    .dataframe tbody tr th {\n",
              "        vertical-align: top;\n",
              "    }\n",
              "\n",
              "    .dataframe thead th {\n",
              "        text-align: right;\n",
              "    }\n",
              "</style>\n",
              "<table border=\"1\" class=\"dataframe\">\n",
              "  <thead>\n",
              "    <tr style=\"text-align: right;\">\n",
              "      <th></th>\n",
              "      <th>possession_old</th>\n",
              "      <th>npxg_old</th>\n",
              "      <th>xg_against_old</th>\n",
              "      <th>passes_pct_old</th>\n",
              "      <th>touches_old</th>\n",
              "      <th>possession_new</th>\n",
              "      <th>npxg_new</th>\n",
              "      <th>xg_against_new</th>\n",
              "      <th>passes_pct_new</th>\n",
              "      <th>touches_new</th>\n",
              "      <th>minutes_90s_x</th>\n",
              "      <th>goals_per90_x</th>\n",
              "      <th>assists_per90_x</th>\n",
              "      <th>sca_per90_x</th>\n",
              "      <th>gca_per90_x</th>\n",
              "      <th>sca_per90_y</th>\n",
              "    </tr>\n",
              "  </thead>\n",
              "  <tbody>\n",
              "    <tr>\n",
              "      <th>0</th>\n",
              "      <td>61.553191</td>\n",
              "      <td>1.594737</td>\n",
              "      <td>0.660526</td>\n",
              "      <td>85.750000</td>\n",
              "      <td>867.815789</td>\n",
              "      <td>53.717391</td>\n",
              "      <td>1.407895</td>\n",
              "      <td>0.857895</td>\n",
              "      <td>81.463158</td>\n",
              "      <td>700.710526</td>\n",
              "      <td>29.4</td>\n",
              "      <td>0.07</td>\n",
              "      <td>0.10</td>\n",
              "      <td>3.21</td>\n",
              "      <td>0.41</td>\n",
              "      <td>1.71</td>\n",
              "    </tr>\n",
              "    <tr>\n",
              "      <th>0</th>\n",
              "      <td>52.578947</td>\n",
              "      <td>1.357895</td>\n",
              "      <td>1.118421</td>\n",
              "      <td>78.086842</td>\n",
              "      <td>636.763158</td>\n",
              "      <td>44.368421</td>\n",
              "      <td>0.802632</td>\n",
              "      <td>1.436842</td>\n",
              "      <td>73.681579</td>\n",
              "      <td>560.973684</td>\n",
              "      <td>1.5</td>\n",
              "      <td>0.00</td>\n",
              "      <td>0.00</td>\n",
              "      <td>2.67</td>\n",
              "      <td>0.00</td>\n",
              "      <td>0.20</td>\n",
              "    </tr>\n",
              "    <tr>\n",
              "      <th>0</th>\n",
              "      <td>43.500000</td>\n",
              "      <td>0.831579</td>\n",
              "      <td>1.563158</td>\n",
              "      <td>75.142105</td>\n",
              "      <td>546.973684</td>\n",
              "      <td>43.289474</td>\n",
              "      <td>1.055263</td>\n",
              "      <td>1.434211</td>\n",
              "      <td>72.239474</td>\n",
              "      <td>518.578947</td>\n",
              "      <td>19.0</td>\n",
              "      <td>0.00</td>\n",
              "      <td>0.00</td>\n",
              "      <td>1.27</td>\n",
              "      <td>0.05</td>\n",
              "      <td>1.83</td>\n",
              "    </tr>\n",
              "    <tr>\n",
              "      <th>0</th>\n",
              "      <td>50.413043</td>\n",
              "      <td>1.313043</td>\n",
              "      <td>1.132609</td>\n",
              "      <td>79.943478</td>\n",
              "      <td>629.521739</td>\n",
              "      <td>43.289474</td>\n",
              "      <td>1.055263</td>\n",
              "      <td>1.434211</td>\n",
              "      <td>72.239474</td>\n",
              "      <td>518.578947</td>\n",
              "      <td>8.6</td>\n",
              "      <td>0.00</td>\n",
              "      <td>0.12</td>\n",
              "      <td>2.32</td>\n",
              "      <td>0.35</td>\n",
              "      <td>2.73</td>\n",
              "    </tr>\n",
              "    <tr>\n",
              "      <th>0</th>\n",
              "      <td>43.921053</td>\n",
              "      <td>1.034211</td>\n",
              "      <td>1.089474</td>\n",
              "      <td>71.463158</td>\n",
              "      <td>538.342105</td>\n",
              "      <td>54.957447</td>\n",
              "      <td>1.626316</td>\n",
              "      <td>1.044737</td>\n",
              "      <td>82.555263</td>\n",
              "      <td>654.657895</td>\n",
              "      <td>33.6</td>\n",
              "      <td>0.09</td>\n",
              "      <td>0.09</td>\n",
              "      <td>3.24</td>\n",
              "      <td>0.18</td>\n",
              "      <td>2.16</td>\n",
              "    </tr>\n",
              "    <tr>\n",
              "      <th>...</th>\n",
              "      <td>...</td>\n",
              "      <td>...</td>\n",
              "      <td>...</td>\n",
              "      <td>...</td>\n",
              "      <td>...</td>\n",
              "      <td>...</td>\n",
              "      <td>...</td>\n",
              "      <td>...</td>\n",
              "      <td>...</td>\n",
              "      <td>...</td>\n",
              "      <td>...</td>\n",
              "      <td>...</td>\n",
              "      <td>...</td>\n",
              "      <td>...</td>\n",
              "      <td>...</td>\n",
              "      <td>...</td>\n",
              "    </tr>\n",
              "    <tr>\n",
              "      <th>0</th>\n",
              "      <td>54.344828</td>\n",
              "      <td>1.068966</td>\n",
              "      <td>1.379310</td>\n",
              "      <td>84.227586</td>\n",
              "      <td>689.896552</td>\n",
              "      <td>44.478261</td>\n",
              "      <td>0.847826</td>\n",
              "      <td>2.043478</td>\n",
              "      <td>75.804348</td>\n",
              "      <td>555.913043</td>\n",
              "      <td>0.0</td>\n",
              "      <td>0.00</td>\n",
              "      <td>0.00</td>\n",
              "      <td>0.00</td>\n",
              "      <td>0.00</td>\n",
              "      <td>1.35</td>\n",
              "    </tr>\n",
              "    <tr>\n",
              "      <th>0</th>\n",
              "      <td>51.750000</td>\n",
              "      <td>1.007143</td>\n",
              "      <td>1.346429</td>\n",
              "      <td>79.342857</td>\n",
              "      <td>640.678571</td>\n",
              "      <td>42.523810</td>\n",
              "      <td>0.938095</td>\n",
              "      <td>1.395238</td>\n",
              "      <td>76.052381</td>\n",
              "      <td>563.857143</td>\n",
              "      <td>2.6</td>\n",
              "      <td>0.00</td>\n",
              "      <td>0.00</td>\n",
              "      <td>1.55</td>\n",
              "      <td>0.00</td>\n",
              "      <td>2.07</td>\n",
              "    </tr>\n",
              "    <tr>\n",
              "      <th>0</th>\n",
              "      <td>47.447368</td>\n",
              "      <td>1.002632</td>\n",
              "      <td>1.218421</td>\n",
              "      <td>70.013158</td>\n",
              "      <td>531.184211</td>\n",
              "      <td>52.894737</td>\n",
              "      <td>1.281579</td>\n",
              "      <td>1.184211</td>\n",
              "      <td>81.639474</td>\n",
              "      <td>637.131579</td>\n",
              "      <td>33.1</td>\n",
              "      <td>0.03</td>\n",
              "      <td>0.15</td>\n",
              "      <td>2.30</td>\n",
              "      <td>0.30</td>\n",
              "      <td>2.37</td>\n",
              "    </tr>\n",
              "    <tr>\n",
              "      <th>0</th>\n",
              "      <td>44.210526</td>\n",
              "      <td>0.760526</td>\n",
              "      <td>1.381579</td>\n",
              "      <td>71.268421</td>\n",
              "      <td>507.973684</td>\n",
              "      <td>47.105263</td>\n",
              "      <td>1.063158</td>\n",
              "      <td>1.255263</td>\n",
              "      <td>72.705263</td>\n",
              "      <td>546.631579</td>\n",
              "      <td>34.7</td>\n",
              "      <td>0.03</td>\n",
              "      <td>0.00</td>\n",
              "      <td>2.33</td>\n",
              "      <td>0.09</td>\n",
              "      <td>1.54</td>\n",
              "    </tr>\n",
              "    <tr>\n",
              "      <th>0</th>\n",
              "      <td>49.605263</td>\n",
              "      <td>1.118421</td>\n",
              "      <td>1.386842</td>\n",
              "      <td>75.773684</td>\n",
              "      <td>572.842105</td>\n",
              "      <td>55.340426</td>\n",
              "      <td>1.846809</td>\n",
              "      <td>1.229787</td>\n",
              "      <td>82.497872</td>\n",
              "      <td>674.617021</td>\n",
              "      <td>27.7</td>\n",
              "      <td>0.25</td>\n",
              "      <td>0.00</td>\n",
              "      <td>1.77</td>\n",
              "      <td>0.11</td>\n",
              "      <td>3.22</td>\n",
              "    </tr>\n",
              "  </tbody>\n",
              "</table>\n",
              "<p>78 rows × 16 columns</p>\n",
              "</div>"
            ],
            "text/plain": [
              "    possession_old  npxg_old  ...  gca_per90_x  sca_per90_y\n",
              "0        61.553191  1.594737  ...         0.41         1.71\n",
              "0        52.578947  1.357895  ...         0.00         0.20\n",
              "0        43.500000  0.831579  ...         0.05         1.83\n",
              "0        50.413043  1.313043  ...         0.35         2.73\n",
              "0        43.921053  1.034211  ...         0.18         2.16\n",
              "..             ...       ...  ...          ...          ...\n",
              "0        54.344828  1.068966  ...         0.00         1.35\n",
              "0        51.750000  1.007143  ...         0.00         2.07\n",
              "0        47.447368  1.002632  ...         0.30         2.37\n",
              "0        44.210526  0.760526  ...         0.09         1.54\n",
              "0        49.605263  1.118421  ...         0.11         3.22\n",
              "\n",
              "[78 rows x 16 columns]"
            ]
          },
          "metadata": {
            "tags": []
          },
          "execution_count": 134
        }
      ]
    },
    {
      "cell_type": "code",
      "metadata": {
        "colab": {
          "base_uri": "https://localhost:8080/"
        },
        "id": "VWRammnSO7tR",
        "outputId": "0aac87cb-f739-44fe-d61d-fa81b16eaada"
      },
      "source": [
        "target_column = 'sca_per90_y'\n",
        "lgb_train = lgb.Dataset(train.drop(columns=target_column).values, train[target_column].values)\n",
        "lgb_val = lgb.Dataset(val.drop(columns=target_column).values, val[target_column].values)\n",
        "\n",
        "\n",
        "params = {\n",
        "    \"objective\" : \"mse\",\n",
        "    \"metric\" : \"mae\",\n",
        "    \"max_depth\" : 7,\n",
        "    \"num_leaves\" : 100,\n",
        "    \"learning_rate\" : 0.05,\n",
        "    \"bagging_fraction\" : 0.3,\n",
        "    \"feature_fraction\" : 0.15,\n",
        "    \"lambda_l1\" : 5,\n",
        "    \"lambda_l2\" : 5,\n",
        "    \"bagging_seed\" : 42,\n",
        "    \"verbosity\" : 1,\n",
        "    \"seed\": 42\n",
        "}\n",
        "\n",
        "clf = lgb.train(\n",
        "    params,\n",
        "    lgb_train,\n",
        "    valid_sets=[lgb_val],\n",
        "    num_boost_round=500,\n",
        "    early_stopping_rounds=10,\n",
        "    verbose_eval=10\n",
        ")"
      ],
      "execution_count": null,
      "outputs": [
        {
          "output_type": "stream",
          "text": [
            "Training until validation scores don't improve for 10 rounds.\n",
            "[10]\tvalid_0's l1: 0.813454\n",
            "[20]\tvalid_0's l1: 0.776109\n",
            "[30]\tvalid_0's l1: 0.765316\n",
            "[40]\tvalid_0's l1: 0.733746\n",
            "[50]\tvalid_0's l1: 0.713998\n",
            "[60]\tvalid_0's l1: 0.709616\n",
            "[70]\tvalid_0's l1: 0.701773\n",
            "[80]\tvalid_0's l1: 0.691587\n",
            "[90]\tvalid_0's l1: 0.680149\n",
            "[100]\tvalid_0's l1: 0.673268\n",
            "[110]\tvalid_0's l1: 0.671308\n",
            "Early stopping, best iteration is:\n",
            "[107]\tvalid_0's l1: 0.669813\n"
          ],
          "name": "stdout"
        }
      ]
    },
    {
      "cell_type": "markdown",
      "metadata": {
        "id": "0qcbt3XIaiVU"
      },
      "source": [
        "# Сплит"
      ]
    },
    {
      "cell_type": "markdown",
      "metadata": {
        "id": "-1gXxA4SfHkk"
      },
      "source": [
        "Пока есть небольшие проблемы с матчингом позиций и появилось несколько ошибочных вратарей."
      ]
    },
    {
      "cell_type": "markdown",
      "metadata": {
        "id": "sVsgIKLWavZZ"
      },
      "source": [
        "Разделим общую таблицу на 5 частей для каждой группы позиций:"
      ]
    },
    {
      "cell_type": "code",
      "metadata": {
        "id": "PSIWZ0EyavFy"
      },
      "source": [
        "dict_pos = {'Attacking Midfield' : 'Wingers', 'Right Winger' : 'Wingers', 'Centre-Back' : 'Centrebacks',\n",
        "       'Central Midfield' : 'Midfielders', 'Left Midfield' : 'Wingers', 'Left-Back' : 'Fullbacks', 'Right Midfield' : 'Wingers',\n",
        "       'Left Winger' : 'Wingers', 'Right-Back' : 'Fullbacks', 'Centre-Forward' : 'Forwards',\n",
        "       'Defensive Midfield' : 'Midfielders', 'Second Striker' : 'Forwards', 'midfield' : 'Midfielders',\n",
        "       'Goalkeeper' : 'Goalkeepers'} \n",
        "tables = [t for _, t in merge_table.replace({'position_y' : dict_pos}).groupby(['position_y'])]"
      ],
      "execution_count": null,
      "outputs": []
    },
    {
      "cell_type": "code",
      "metadata": {
        "id": "eDhWcLE1pa7S"
      },
      "source": [
        "Centrebacks = tables[0]\n",
        "Forwards = tables[1]\n",
        "Fullbacks = tables[2]\n",
        "Midfielders = tables[4]\n",
        "Wingers = tables[5]"
      ],
      "execution_count": null,
      "outputs": []
    },
    {
      "cell_type": "markdown",
      "metadata": {
        "id": "SlV9yXJLqL41"
      },
      "source": [
        "Функция для разбиения на трейн, тест и валидацию и их экспорт в csv"
      ]
    },
    {
      "cell_type": "code",
      "metadata": {
        "id": "1srSazMQpWqi"
      },
      "source": [
        "def ttv(df, name):\n",
        "  train, valid_plus_test = train_test_split(df, random_state=2021, test_size=0.3)\n",
        "  val, test = train_test_split(valid_plus_test, random_state=2021, test_size=0.67)\n",
        "  train.to_csv('/content/drive/MyDrive/xg_project/Train Test Val/' + name + '_train.csv')\n",
        "  val.to_csv('/content/drive/MyDrive/xg_project/Train Test Val/' + name + '_val.csv')\n",
        "  test.to_csv('/content/drive/MyDrive/xg_project/Train Test Val/' + name + '_test.csv')"
      ],
      "execution_count": null,
      "outputs": []
    },
    {
      "cell_type": "code",
      "metadata": {
        "id": "vI2y2rWFrgmU"
      },
      "source": [
        "ttv(Centrebacks, 'Centerbacks')\n",
        "ttv(Forwards, 'Forwards')\n",
        "ttv(Fullbacks, 'Fullbacks')\n",
        "ttv(Midfielders, 'Midfielders')\n",
        "ttv(Wingers, 'Wingers')"
      ],
      "execution_count": null,
      "outputs": []
    },
    {
      "cell_type": "markdown",
      "metadata": {
        "id": "sx5Y7oljZlQV"
      },
      "source": [
        "# Функции для корректировки атрибутов на время и владение"
      ]
    },
    {
      "cell_type": "markdown",
      "metadata": {
        "id": "IAMKE3EW_WH4"
      },
      "source": [
        "Функция для корректировки стат на время"
      ]
    },
    {
      "cell_type": "code",
      "metadata": {
        "id": "FAvS7c31_bsD"
      },
      "source": [
        "def time_adj(df, list_of_attr):\n",
        "  for attr in list_of_attr:\n",
        "    df[attr] = (df[attr] * 90) / df['minutes']"
      ],
      "execution_count": null,
      "outputs": []
    },
    {
      "cell_type": "markdown",
      "metadata": {
        "id": "38T339FNB804"
      },
      "source": [
        "Функция для корректировки стат на владение (считается что уже скорректировано на время) \n",
        "\n",
        "Если игрок провел в команде только половину сезона, то владение все равно берется по всему сезону"
      ]
    },
    {
      "cell_type": "code",
      "metadata": {
        "id": "Q1VSL6ZqB9q1"
      },
      "source": [
        "def poss_adj(df, list_of_attr, on_ball): \n",
        "  # list_of_attr - список столбцов которые нужно скорректировать\n",
        "  # on_ball - True для показателей на мяче (корректировка вниз при владении > 50%) и False без мяча (корр вверх)\n",
        "  for i, row in df.iterrows():\n",
        "    team = row['squad']\n",
        "    year = row['year']\n",
        "    dft = team_stats[team_stats['team'] == team]\n",
        "    dft = dft[dft['year'] == year]\n",
        "    dft = dft.iloc[0]\n",
        "    if (dft['possession'] != dft['possession']):\n",
        "      raise NotImplementedError #пока не решил что делать с комаднами без владения\n",
        "    if on_ball:\n",
        "      for attr in list_of_attr:\n",
        "        df.loc[i, attr] = (row[attr] * 50) / dft['possession']\n",
        "    else:\n",
        "      for attr in list_of_attr:\n",
        "        df.loc[i, attr] = (row[attr] * 50) / (100 - dft['possession'])"
      ],
      "execution_count": null,
      "outputs": []
    }
  ]
}