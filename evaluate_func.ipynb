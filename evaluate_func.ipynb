{
 "cells": [
  {
   "cell_type": "code",
   "execution_count": null,
   "metadata": {},
   "outputs": [],
   "source": [
    "from sklearn.model_selection import train_test_split\n",
    "from sklearn.metrics import mean_absolute_error\n",
    "import lightgbm as lgb\n",
    "import numpy as np\n",
    "import pandas as pd\n",
    "\n",
    "def evaluate(X, y):\n",
    "    pd.concat([X, y], axis = 1)\n",
    "    train, valid_plus_test = train_test_split(X, random_state=2021, test_size=0.3)\n",
    "    val, test = train_test_split(valid_plus_test, random_state=2021, test_size=0.67)\n",
    "    lgb_train = lgb.Dataset(train.iloc[:, :-1].values, \n",
    "                        train.iloc[:, -1].values, free_raw_data=False)\n",
    "    lgb_val = lgb.Dataset(val.iloc[:, :-1].values, \n",
    "                        val.iloc[:, -1].values, free_raw_data=False)\n",
    "    lgb_test = lgb.Dataset(test.iloc[:, :-1].values, \n",
    "                        test.iloc[:, -1].values, free_raw_data=False)\n",
    "    params = {\n",
    "        \"objective\" : \"mse\",\n",
    "        \"metric\" : \"mae\",\n",
    "        \"max_depth\" : 7,\n",
    "        \"num_leaves\" : 100,\n",
    "        \"learning_rate\" : 0.05,\n",
    "        \"bagging_fraction\" : 0.3,\n",
    "        \"feature_fraction\" : 0.15,\n",
    "        \"lambda_l1\" : 5,\n",
    "        \"lambda_l2\" : 5,\n",
    "        \"bagging_seed\" : 42,\n",
    "        \"verbosity\" : 0,\n",
    "        \"seed\": 42\n",
    "    }\n",
    "    \n",
    "    clf = lgb.train(\n",
    "        params,\n",
    "        lgb_train,\n",
    "        valid_sets=[lgb_val],\n",
    "        num_boost_round=500,\n",
    "        early_stopping_rounds=10,\n",
    "        verbose_eval=10\n",
    "    )\n",
    "    \n",
    "    pred1 = clf.predict(train.iloc[:, :-1].values)\n",
    "    sc1 = mean_absolute_error(train.iloc[:, -1].values, pred1)\n",
    "    pred2 = clf.predict(val.iloc[:, :-1].values)\n",
    "    sc2 = mean_absolute_error(val.iloc[:, -1].values, pred2)\n",
    "    pred3 = clf.predict(test.iloc[:, :-1].values)\n",
    "    sc3 = mean_absolute_error(test.iloc[:, -1].values, pred3)\n",
    "    return (sc1, sc2, sc3)"
   ]
  }
 ],
 "metadata": {
  "kernelspec": {
   "display_name": "Python 3",
   "language": "python",
   "name": "python3"
  },
  "language_info": {
   "codemirror_mode": {
    "name": "ipython",
    "version": 3
   },
   "file_extension": ".py",
   "mimetype": "text/x-python",
   "name": "python",
   "nbconvert_exporter": "python",
   "pygments_lexer": "ipython3",
   "version": "3.8.5"
  }
 },
 "nbformat": 4,
 "nbformat_minor": 4
}
