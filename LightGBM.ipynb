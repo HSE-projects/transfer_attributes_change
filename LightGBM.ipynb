{
  "nbformat": 4,
  "nbformat_minor": 0,
  "metadata": {
    "colab": {
      "name": "LightGBM (1).ipynb",
      "provenance": [],
      "collapsed_sections": []
    },
    "kernelspec": {
      "name": "python3",
      "display_name": "Python 3"
    },
    "language_info": {
      "name": "python"
    }
  },
  "cells": [
    {
      "cell_type": "code",
      "metadata": {
        "id": "qDNv_Bf9sxeV"
      },
      "source": [
        "import pandas as pd\n",
        "from tqdm.notebook import tqdm"
      ],
      "execution_count": 1,
      "outputs": []
    },
    {
      "cell_type": "code",
      "metadata": {
        "id": "jWVHI4_bsyfk"
      },
      "source": [
        "from sklearn.model_selection import train_test_split\n",
        "import lightgbm as lgb"
      ],
      "execution_count": 2,
      "outputs": []
    },
    {
      "cell_type": "code",
      "metadata": {
        "colab": {
          "base_uri": "https://localhost:8080/"
        },
        "id": "WzgWxnOkHxKF",
        "outputId": "405f8dd9-4b51-4f6d-b160-d1e558e50996"
      },
      "source": [
        "import yaml\n",
        "from pprint import pprint\n",
        "\n",
        "with open('param.yaml') as f:\n",
        "    templates = yaml.safe_load(f)\n",
        "\n",
        "pprint(templates)"
      ],
      "execution_count": 3,
      "outputs": [
        {
          "output_type": "stream",
          "text": [
            "{'aerials_won_y': ['aerials_won_x',\n",
            "                   'tackles_won_x',\n",
            "                   'touches_x',\n",
            "                   'pressure_regain_pct_x',\n",
            "                   'possession_old',\n",
            "                   'aerials_won_old',\n",
            "                   'possession_new',\n",
            "                   'aerials_won_new'],\n",
            " 'carry_progressive_distance_y': ['carry_progressive_distance_x',\n",
            "                                  'passes_short_x',\n",
            "                                  'passes_medium_x',\n",
            "                                  'passes_long_x',\n",
            "                                  'dribbles_completed_pct_x',\n",
            "                                  'possession_old',\n",
            "                                  'passes_progressive_distance_old',\n",
            "                                  'carry_progressive_distance_old',\n",
            "                                  'possession_new',\n",
            "                                  'passes_progressive_distance_new',\n",
            "                                  'carry_progressive_distance_new'],\n",
            " 'crosses_y': ['crosses_x',\n",
            "               'tackles_won_x',\n",
            "               'passes_completed_x',\n",
            "               'passes_into_final_third_x',\n",
            "               'passes_long_x',\n",
            "               'possession_old',\n",
            "               'crosses_old',\n",
            "               'possession_new',\n",
            "               'crosses_new'],\n",
            " 'dribbles_completed_pct_y': ['dribbles_completed_pct_x',\n",
            "                              'dribbles_completed_x',\n",
            "                              'carry_progressive_distance_x',\n",
            "                              'interceptions_x',\n",
            "                              'sca_dribbles_x',\n",
            "                              'shots_total_per90_x',\n",
            "                              'passes_completed_old',\n",
            "                              'possession_old',\n",
            "                              'passes_pct_old',\n",
            "                              'passes_completed_new',\n",
            "                              'possession_new',\n",
            "                              'passes_pct_new'],\n",
            " 'gca_per90_y': ['gca_per90_x',\n",
            "                 'shots_total_per90_x',\n",
            "                 'crosses_x',\n",
            "                 'passes_pct_x',\n",
            "                 'dribbles_completed_x',\n",
            "                 'passes_into_final_third_x',\n",
            "                 'passes_into_penalty_area_x',\n",
            "                 'possession_old',\n",
            "                 'gca_old',\n",
            "                 'possession_new',\n",
            "                 'gca_new'],\n",
            " 'interceptions_y': ['interceptions_x',\n",
            "                     'passes_pct_x',\n",
            "                     'passes_completed_x',\n",
            "                     'pressures_x',\n",
            "                     'tackles_x',\n",
            "                     'possession_old',\n",
            "                     'pressures_old',\n",
            "                     'interceptions_old',\n",
            "                     'possession_new',\n",
            "                     'pressures_new',\n",
            "                     'interceptions_new'],\n",
            " 'npxg_per90_y': ['npxg_per90_x',\n",
            "                  'npxg_xa_per90_x',\n",
            "                  'gca_per90_x',\n",
            "                  'sca_per90_x',\n",
            "                  'shots_total_per90_x',\n",
            "                  'dribbles_completed_x',\n",
            "                  'sca_dribbles_x',\n",
            "                  'average_shot_distance_x',\n",
            "                  'passes_pct_old',\n",
            "                  'npxg_old',\n",
            "                  'passes_pct_new',\n",
            "                  'npxg_new'],\n",
            " 'npxg_xa_per90_y': ['npxg_per90_x',\n",
            "                     'npxg_xa_per90_x',\n",
            "                     'gca_per90_x',\n",
            "                     'sca_per90_x',\n",
            "                     'shots_total_per90_x',\n",
            "                     'dribbles_completed_x',\n",
            "                     'sca_dribbles_x',\n",
            "                     'average_shot_distance_x',\n",
            "                     'passes_pct_old',\n",
            "                     'npxg_old',\n",
            "                     'passes_pct_new',\n",
            "                     'npxg_new'],\n",
            " 'passes_completed_y': ['passes_completed_x',\n",
            "                        'touches_x',\n",
            "                        'tackles_won_x',\n",
            "                        'aerials_won_x',\n",
            "                        'interceptions_x',\n",
            "                        'pressure_regain_pct_x',\n",
            "                        'carry_progressive_distance_x',\n",
            "                        'possession_old',\n",
            "                        'passes_pct_old',\n",
            "                        'possession_new',\n",
            "                        'passes_pct_new'],\n",
            " 'passes_into_penalty_area_y': ['passes_into_penalty_area_x',\n",
            "                                'passes_long_x',\n",
            "                                'passes_dead_x',\n",
            "                                'crosses_x',\n",
            "                                'passes_completed_x',\n",
            "                                'carry_progressive_distance_x',\n",
            "                                'passes_completed_old',\n",
            "                                'possession_old',\n",
            "                                'passes_into_penalty_area_old',\n",
            "                                'passes_completed_new',\n",
            "                                'possession_new',\n",
            "                                'passes_into_penalty_area_new'],\n",
            " 'passes_pct_y': ['passes_pct_x',\n",
            "                  'passes_short_x',\n",
            "                  'passes_medium_x',\n",
            "                  'passes_long_x',\n",
            "                  'passes_dead_x',\n",
            "                  'dribbles_completed_pct_x',\n",
            "                  'ball_recoveries_x',\n",
            "                  'possession_old',\n",
            "                  'passes_pct_old',\n",
            "                  'possession_new',\n",
            "                  'passes_pct_new'],\n",
            " 'passes_progressive_distance_y': ['passes_progressive_distance_x',\n",
            "                                   'passes_short_x',\n",
            "                                   'passes_medium_x',\n",
            "                                   'passes_long_x',\n",
            "                                   'passes_dead_x',\n",
            "                                   'ball_recoveries_x',\n",
            "                                   'possession_old',\n",
            "                                   'passes_pct_old',\n",
            "                                   'passes_progressive_distance_old',\n",
            "                                   'possession_new',\n",
            "                                   'passes_pct_new',\n",
            "                                   'passes_progressive_distance_new'],\n",
            " 'pressures_y': ['pressures_x',\n",
            "                 'tackles_x',\n",
            "                 'interceptions_x',\n",
            "                 'passes_completed_x',\n",
            "                 'pressure_regain_pct_x',\n",
            "                 'possession_old',\n",
            "                 'pressures_old',\n",
            "                 'possession_new',\n",
            "                 'pressures_new'],\n",
            " 'sca_per90_y': ['sca_per90_x',\n",
            "                 'crosses_x',\n",
            "                 'pressures_x',\n",
            "                 'passes_pct_x',\n",
            "                 'passes_completed_x',\n",
            "                 'passes_into_final_third_x',\n",
            "                 'passes_into_penalty_area_x',\n",
            "                 'dribbles_completed_x',\n",
            "                 'sca_dribbles_x',\n",
            "                 'possession_old',\n",
            "                 'sca_old',\n",
            "                 'possession_new',\n",
            "                 'sca_new'],\n",
            " 'shots_total_per90_y': ['shots_total_per90_x',\n",
            "                         'sca_per90_x',\n",
            "                         'dribbles_completed_x',\n",
            "                         'ball_recoveries_x',\n",
            "                         'passes_completed_old',\n",
            "                         'possession_old',\n",
            "                         'crosses_old',\n",
            "                         'shots_total_old',\n",
            "                         'passes_completed_new',\n",
            "                         'possession_new',\n",
            "                         'crosses_new',\n",
            "                         'shots_total_new'],\n",
            " 'tackles_won_y': ['tackles_won_x',\n",
            "                   'tackles_x',\n",
            "                   'pressures_x',\n",
            "                   'passes_completed_x',\n",
            "                   'pressure_regain_pct_x',\n",
            "                   'possession_old',\n",
            "                   'tackles_won_old',\n",
            "                   'possession_new',\n",
            "                   'tackles_won_new'],\n",
            " 'tackles_y': ['tackles_x',\n",
            "               'tackles_won_x',\n",
            "               'pressures_x',\n",
            "               'passes_completed_x',\n",
            "               'pressure_regain_pct_x',\n",
            "               'possession_old',\n",
            "               'pressures_old',\n",
            "               'tackles_old',\n",
            "               'possession_new',\n",
            "               'pressures_new',\n",
            "               'tackles_new'],\n",
            " 'touches_y': ['touches_x',\n",
            "               'passes_completed_x',\n",
            "               'possession_old',\n",
            "               'touches_old',\n",
            "               'possession_new',\n",
            "               'touches_new']}\n"
          ],
          "name": "stdout"
        }
      ]
    },
    {
      "cell_type": "code",
      "metadata": {
        "id": "sE0_VRoZz_3j"
      },
      "source": [
        "import numpy as np\n",
        "\n",
        "def mean_absolute_percentage_error(actual, pred): \n",
        "    actual, pred = np.array(actual), np.array(pred)\n",
        "    for index in range(len(actual)):\n",
        "        actual[index] = int(actual[index]) + 0.000001\n",
        "        pred[index] = int(pred[index])\n",
        "\n",
        "    return np.mean(np.minimum(np.abs(actual - pred) / actual, 1)) * 100"
      ],
      "execution_count": 4,
      "outputs": []
    },
    {
      "cell_type": "markdown",
      "metadata": {
        "id": "ovZZpqjTuqkw"
      },
      "source": [
        "Измененная ф-я Артёма, для проверки работы модели."
      ]
    },
    {
      "cell_type": "code",
      "metadata": {
        "id": "-y2_PFNRvPDb"
      },
      "source": [
        "from sklearn.model_selection import train_test_split\n",
        "from sklearn.metrics import mean_absolute_error\n",
        "import lightgbm as lgb\n",
        "import numpy as np\n",
        "import pandas as pd\n",
        "\n",
        "def evaluate(position, position_attributes, attributes):  #т.е позиция, выбранные атрибуты для позиции, предсказываемые атрибуты.\n",
        "    target_columns = attributes[0] + '_y'\n",
        "    print(target_columns)\n",
        "\n",
        "    col = templates[target_columns] + [x + '_y' for x in attributes]\n",
        "\n",
        "    _train = pd.read_csv(position + '_train.csv') #выгрузил Сашины выборки\n",
        "    _val   = pd.read_csv(position + '_val.csv')\n",
        "    _test  = pd.read_csv(position + '_test.csv')\n",
        "    \n",
        "    _train.dropna(subset=[target_columns])\n",
        "    _test.dropna(subset=[target_columns])\n",
        "    _val.dropna(subset=[target_columns])\n",
        "\n",
        "    train = pd.DataFrame(_train[col]) #оставил только нужные колонки\n",
        "    val   = pd.DataFrame(_val[col])\n",
        "    test  = pd.DataFrame(_test[col])\n",
        "\n",
        "    lgb_train = lgb.Dataset(train.drop(columns=target_columns).values, train[target_columns].values)\n",
        "    lgb_val   = lgb.Dataset(val.drop(columns=target_columns).values, val[target_columns].values)\n",
        "    lgb_test  = test\n",
        "\n",
        "    params = {\n",
        "        \"objective\" : \"mae\",\n",
        "        \"metric\" : \"mape\",\n",
        "        \"max_depth\" : 7,\n",
        "        \"num_leaves\" : 100,\n",
        "        \"learning_rate\" : 0.05,\n",
        "        \"bagging_fraction\" : 0.3,\n",
        "        \"feature_fraction\" : 0.15,\n",
        "        \"lambda_l1\" : 5,\n",
        "        \"lambda_l2\" : 5,\n",
        "        \"bagging_seed\" : 42,\n",
        "        \"verbosity\" : 0,\n",
        "        \"seed\": 42\n",
        "    }\n",
        "    \n",
        "    clf = lgb.train(\n",
        "        params,\n",
        "        lgb_train,\n",
        "        valid_sets=[lgb_val],\n",
        "        num_boost_round=500,\n",
        "        early_stopping_rounds=10,\n",
        "        verbose_eval=10\n",
        "    )\n",
        "    \n",
        "    pred1 = clf.predict(train.iloc[:, :-1].values)\n",
        "    sc1 = mean_absolute_percentage_error(train.iloc[:, -1].values, pred1)\n",
        "    pred2 = clf.predict(val.iloc[:, :-1].values)\n",
        "    sc2 = mean_absolute_percentage_error(val.iloc[:, -1].values, pred2)\n",
        "    pred3 = clf.predict(test.iloc[:, :-1].values)\n",
        "    sc3 = mean_absolute_percentage_error(test.iloc[:, -1].values, pred3)\n",
        "    return (sc1, sc2, sc3)"
      ],
      "execution_count": 5,
      "outputs": []
    },
    {
      "cell_type": "code",
      "metadata": {
        "id": "VRKEuK5AZHE0"
      },
      "source": [
        "def lgbm(position, position_attributes):  #ф-я подсчитывающая lgbm для каждого параметра\n",
        "    x = len(position_attributes)\n",
        "    A = [[0.01 for j in range(2)] for i in range(x)]\n",
        "    df = pd.DataFrame(A)\n",
        "    for i in range(x):\n",
        "      sc = evaluate(position, position_attributes, position_attributes[i:(i + 1)])\n",
        "      df[0][i] = sc[1]\n",
        "      df[1][i] = sc[2]\n",
        "    return(df)"
      ],
      "execution_count": 6,
      "outputs": []
    },
    {
      "cell_type": "code",
      "metadata": {
        "id": "ceawLnwEfRmm"
      },
      "source": [
        "def lgbm_minus_param(position, position_attributes, club_attributes):  #ф-я подсчитывающая lgbm для каждого параметра, при выкидывании одного из признаков\n",
        "    x = len(position_attributes)\n",
        "    A = [[0.01 for j in range(x)] for i in range(x)]\n",
        "    df = pd.DataFrame(A)\n",
        "    for i in range(x):\n",
        "      _position_attributes = position_attributes[:i] + position_attributes[(i + 1):]  #выкидываем один из параметров\n",
        "      for j in range(x):\n",
        "        if(i != j):\n",
        "          sc = evaluate(position, _position_attributes, club_attributes, position_attributes[j:(j + 1)])\n",
        "          df[j][i] = sc[2]\n",
        "    df = df.T \n",
        "    return(df)  "
      ],
      "execution_count": 7,
      "outputs": []
    },
    {
      "cell_type": "code",
      "metadata": {
        "id": "sbZPIL72qteD"
      },
      "source": [
        "def lgbm_normalize(lgbm_df, lgbm_minus_param_df):  #ф-я подсчитывающая выгодность выкидывания одного из параметров\n",
        "    l = len(lgbm_df)\n",
        "    df = lgbm_minus_param_df\n",
        "    for i in range(l):\n",
        "      x = lgbm_df[0][i]\n",
        "      for j in range(l):\n",
        "        if(i != j):\n",
        "          df[j][i] =  lgbm_minus_param_df[j][i] - x \n",
        "    return(df)"
      ],
      "execution_count": 8,
      "outputs": []
    },
    {
      "cell_type": "markdown",
      "metadata": {
        "id": "tO6Lb-dTvVND"
      },
      "source": [
        "**Распишем для каждого вида позиций**"
      ]
    },
    {
      "cell_type": "markdown",
      "metadata": {
        "id": "hDAcGMdKZz66"
      },
      "source": [
        "***Centerbacks***"
      ]
    },
    {
      "cell_type": "code",
      "metadata": {
        "id": "DU-1W29cT7Pe"
      },
      "source": [
        "CB_position = 'Centerbacks'\n",
        "CB_position_attributes = [\n",
        " 'aerials_won',\n",
        " 'pressures',\n",
        " 'tackles',\n",
        " 'passes_pct',\n",
        " 'interceptions']"
      ],
      "execution_count": 9,
      "outputs": []
    },
    {
      "cell_type": "code",
      "metadata": {
        "colab": {
          "base_uri": "https://localhost:8080/",
          "height": 969
        },
        "id": "m2lkT9iTKwqH",
        "outputId": "cffd4946-3579-4b08-fee8-9d83b16aac63"
      },
      "source": [
        "CB = lgbm(CB_position, CB_position_attributes)\n",
        "CB"
      ],
      "execution_count": 10,
      "outputs": [
        {
          "output_type": "stream",
          "text": [
            "aerials_won_y\n",
            "Training until validation scores don't improve for 10 rounds.\n",
            "[10]\tvalid_0's mape: 0.439082\n",
            "Early stopping, best iteration is:\n",
            "[8]\tvalid_0's mape: 0.438003\n",
            "pressures_y\n",
            "Training until validation scores don't improve for 10 rounds.\n",
            "[10]\tvalid_0's mape: 0.453663\n",
            "[20]\tvalid_0's mape: 0.436638\n",
            "[30]\tvalid_0's mape: 0.4217\n",
            "[40]\tvalid_0's mape: 0.401521\n",
            "[50]\tvalid_0's mape: 0.385113\n",
            "[60]\tvalid_0's mape: 0.376624\n",
            "[70]\tvalid_0's mape: 0.380013\n",
            "[80]\tvalid_0's mape: 0.361996\n",
            "[90]\tvalid_0's mape: 0.353621\n",
            "[100]\tvalid_0's mape: 0.347745\n",
            "[110]\tvalid_0's mape: 0.340004\n",
            "[120]\tvalid_0's mape: 0.334728\n",
            "[130]\tvalid_0's mape: 0.332935\n",
            "[140]\tvalid_0's mape: 0.329861\n",
            "[150]\tvalid_0's mape: 0.331272\n",
            "Early stopping, best iteration is:\n",
            "[146]\tvalid_0's mape: 0.328199\n",
            "tackles_y\n",
            "Training until validation scores don't improve for 10 rounds.\n",
            "[10]\tvalid_0's mape: 0.627674\n",
            "[20]\tvalid_0's mape: 0.605545\n",
            "[30]\tvalid_0's mape: 0.620876\n",
            "Early stopping, best iteration is:\n",
            "[20]\tvalid_0's mape: 0.605545\n",
            "passes_pct_y\n",
            "Training until validation scores don't improve for 10 rounds.\n",
            "[10]\tvalid_0's mape: 0.039954\n",
            "[20]\tvalid_0's mape: 0.040462\n",
            "Early stopping, best iteration is:\n",
            "[10]\tvalid_0's mape: 0.039954\n",
            "interceptions_y\n",
            "Training until validation scores don't improve for 10 rounds.\n",
            "[10]\tvalid_0's mape: 1.74035\n",
            "[20]\tvalid_0's mape: 1.70416\n",
            "[30]\tvalid_0's mape: 1.64481\n",
            "[40]\tvalid_0's mape: 1.65268\n",
            "Early stopping, best iteration is:\n",
            "[31]\tvalid_0's mape: 1.63669\n"
          ],
          "name": "stdout"
        },
        {
          "output_type": "execute_result",
          "data": {
            "text/html": [
              "<div>\n",
              "<style scoped>\n",
              "    .dataframe tbody tr th:only-of-type {\n",
              "        vertical-align: middle;\n",
              "    }\n",
              "\n",
              "    .dataframe tbody tr th {\n",
              "        vertical-align: top;\n",
              "    }\n",
              "\n",
              "    .dataframe thead th {\n",
              "        text-align: right;\n",
              "    }\n",
              "</style>\n",
              "<table border=\"1\" class=\"dataframe\">\n",
              "  <thead>\n",
              "    <tr style=\"text-align: right;\">\n",
              "      <th></th>\n",
              "      <th>0</th>\n",
              "      <th>1</th>\n",
              "    </tr>\n",
              "  </thead>\n",
              "  <tbody>\n",
              "    <tr>\n",
              "      <th>0</th>\n",
              "      <td>42.491927</td>\n",
              "      <td>50.837505</td>\n",
              "    </tr>\n",
              "    <tr>\n",
              "      <th>1</th>\n",
              "      <td>32.818614</td>\n",
              "      <td>45.896067</td>\n",
              "    </tr>\n",
              "    <tr>\n",
              "      <th>2</th>\n",
              "      <td>48.229277</td>\n",
              "      <td>49.563024</td>\n",
              "    </tr>\n",
              "    <tr>\n",
              "      <th>3</th>\n",
              "      <td>4.153507</td>\n",
              "      <td>5.076980</td>\n",
              "    </tr>\n",
              "    <tr>\n",
              "      <th>4</th>\n",
              "      <td>51.341886</td>\n",
              "      <td>50.980762</td>\n",
              "    </tr>\n",
              "  </tbody>\n",
              "</table>\n",
              "</div>"
            ],
            "text/plain": [
              "           0          1\n",
              "0  42.491927  50.837505\n",
              "1  32.818614  45.896067\n",
              "2  48.229277  49.563024\n",
              "3   4.153507   5.076980\n",
              "4  51.341886  50.980762"
            ]
          },
          "metadata": {
            "tags": []
          },
          "execution_count": 10
        }
      ]
    },
    {
      "cell_type": "code",
      "metadata": {
        "colab": {
          "base_uri": "https://localhost:8080/",
          "height": 204
        },
        "id": "dqekNdJAOdMT",
        "outputId": "6e7b92f7-605f-46db-9cda-7688fd6b2e01"
      },
      "source": [
        "CB.index = CB_position_attributes\n",
        "CB"
      ],
      "execution_count": 24,
      "outputs": [
        {
          "output_type": "execute_result",
          "data": {
            "text/html": [
              "<div>\n",
              "<style scoped>\n",
              "    .dataframe tbody tr th:only-of-type {\n",
              "        vertical-align: middle;\n",
              "    }\n",
              "\n",
              "    .dataframe tbody tr th {\n",
              "        vertical-align: top;\n",
              "    }\n",
              "\n",
              "    .dataframe thead th {\n",
              "        text-align: right;\n",
              "    }\n",
              "</style>\n",
              "<table border=\"1\" class=\"dataframe\">\n",
              "  <thead>\n",
              "    <tr style=\"text-align: right;\">\n",
              "      <th></th>\n",
              "      <th>0</th>\n",
              "      <th>1</th>\n",
              "    </tr>\n",
              "  </thead>\n",
              "  <tbody>\n",
              "    <tr>\n",
              "      <th>aerials_won</th>\n",
              "      <td>42.491927</td>\n",
              "      <td>50.837505</td>\n",
              "    </tr>\n",
              "    <tr>\n",
              "      <th>pressures</th>\n",
              "      <td>32.818614</td>\n",
              "      <td>45.896067</td>\n",
              "    </tr>\n",
              "    <tr>\n",
              "      <th>tackles</th>\n",
              "      <td>48.229277</td>\n",
              "      <td>49.563024</td>\n",
              "    </tr>\n",
              "    <tr>\n",
              "      <th>passes_pct</th>\n",
              "      <td>4.153507</td>\n",
              "      <td>5.076980</td>\n",
              "    </tr>\n",
              "    <tr>\n",
              "      <th>interceptions</th>\n",
              "      <td>51.341886</td>\n",
              "      <td>50.980762</td>\n",
              "    </tr>\n",
              "  </tbody>\n",
              "</table>\n",
              "</div>"
            ],
            "text/plain": [
              "                       0          1\n",
              "aerials_won    42.491927  50.837505\n",
              "pressures      32.818614  45.896067\n",
              "tackles        48.229277  49.563024\n",
              "passes_pct      4.153507   5.076980\n",
              "interceptions  51.341886  50.980762"
            ]
          },
          "metadata": {
            "tags": []
          },
          "execution_count": 24
        }
      ]
    },
    {
      "cell_type": "markdown",
      "metadata": {
        "id": "ojtVSn9jaNmz"
      },
      "source": [
        "***Fullbacks***"
      ]
    },
    {
      "cell_type": "code",
      "metadata": {
        "id": "b4rBcRHGfF2j"
      },
      "source": [
        "FB_position = 'Fullbacks'\n",
        "FB_position_attributes = [\n",
        " 'passes_into_penalty_area',\n",
        " 'npxg_xa_per90',\n",
        " 'passes_completed',\n",
        " 'crosses',\n",
        " 'carry_progressive_distance']"
      ],
      "execution_count": 11,
      "outputs": []
    },
    {
      "cell_type": "code",
      "metadata": {
        "colab": {
          "base_uri": "https://localhost:8080/",
          "height": 748
        },
        "id": "QGiNQLI7NtuZ",
        "outputId": "e5f0c682-9a7e-4a1a-d985-25e4c8279737"
      },
      "source": [
        "FB = lgbm(FB_position, FB_position_attributes)\n",
        "FB"
      ],
      "execution_count": 12,
      "outputs": [
        {
          "output_type": "stream",
          "text": [
            "passes_into_penalty_area_y\n",
            "Training until validation scores don't improve for 10 rounds.\n",
            "[10]\tvalid_0's mape: 0.732163\n",
            "Early stopping, best iteration is:\n",
            "[3]\tvalid_0's mape: 0.68451\n",
            "npxg_xa_per90_y\n",
            "Training until validation scores don't improve for 10 rounds.\n",
            "[10]\tvalid_0's mape: 0.0345819\n",
            "[20]\tvalid_0's mape: 0.0333457\n",
            "[30]\tvalid_0's mape: 0.0327387\n",
            "[40]\tvalid_0's mape: 0.0323752\n",
            "[50]\tvalid_0's mape: 0.0317578\n",
            "[60]\tvalid_0's mape: 0.0310737\n",
            "[70]\tvalid_0's mape: 0.0302245\n",
            "[80]\tvalid_0's mape: 0.0302515\n",
            "Early stopping, best iteration is:\n",
            "[76]\tvalid_0's mape: 0.0301319\n",
            "passes_completed_y\n",
            "Training until validation scores don't improve for 10 rounds.\n",
            "[10]\tvalid_0's mape: 0.51794\n",
            "Early stopping, best iteration is:\n",
            "[1]\tvalid_0's mape: 0.458735\n",
            "crosses_y\n",
            "Training until validation scores don't improve for 10 rounds.\n",
            "[10]\tvalid_0's mape: 1.01602\n",
            "Early stopping, best iteration is:\n",
            "[2]\tvalid_0's mape: 0.984043\n",
            "carry_progressive_distance_y\n",
            "Training until validation scores don't improve for 10 rounds.\n",
            "[10]\tvalid_0's mape: 0.495409\n",
            "Early stopping, best iteration is:\n",
            "[1]\tvalid_0's mape: 0.47323\n"
          ],
          "name": "stdout"
        },
        {
          "output_type": "execute_result",
          "data": {
            "text/html": [
              "<div>\n",
              "<style scoped>\n",
              "    .dataframe tbody tr th:only-of-type {\n",
              "        vertical-align: middle;\n",
              "    }\n",
              "\n",
              "    .dataframe tbody tr th {\n",
              "        vertical-align: top;\n",
              "    }\n",
              "\n",
              "    .dataframe thead th {\n",
              "        text-align: right;\n",
              "    }\n",
              "</style>\n",
              "<table border=\"1\" class=\"dataframe\">\n",
              "  <thead>\n",
              "    <tr style=\"text-align: right;\">\n",
              "      <th></th>\n",
              "      <th>0</th>\n",
              "      <th>1</th>\n",
              "    </tr>\n",
              "  </thead>\n",
              "  <tbody>\n",
              "    <tr>\n",
              "      <th>0</th>\n",
              "      <td>50.011626</td>\n",
              "      <td>54.949463</td>\n",
              "    </tr>\n",
              "    <tr>\n",
              "      <th>1</th>\n",
              "      <td>100.000000</td>\n",
              "      <td>100.000000</td>\n",
              "    </tr>\n",
              "    <tr>\n",
              "      <th>2</th>\n",
              "      <td>43.201547</td>\n",
              "      <td>50.325239</td>\n",
              "    </tr>\n",
              "    <tr>\n",
              "      <th>3</th>\n",
              "      <td>50.133746</td>\n",
              "      <td>54.453157</td>\n",
              "    </tr>\n",
              "    <tr>\n",
              "      <th>4</th>\n",
              "      <td>41.595724</td>\n",
              "      <td>41.938078</td>\n",
              "    </tr>\n",
              "  </tbody>\n",
              "</table>\n",
              "</div>"
            ],
            "text/plain": [
              "            0           1\n",
              "0   50.011626   54.949463\n",
              "1  100.000000  100.000000\n",
              "2   43.201547   50.325239\n",
              "3   50.133746   54.453157\n",
              "4   41.595724   41.938078"
            ]
          },
          "metadata": {
            "tags": []
          },
          "execution_count": 12
        }
      ]
    },
    {
      "cell_type": "code",
      "metadata": {
        "colab": {
          "base_uri": "https://localhost:8080/",
          "height": 204
        },
        "id": "XCab4tfgOYvZ",
        "outputId": "6f8faba9-aaab-4149-e893-999b4ee637ff"
      },
      "source": [
        "FB.index = FB_position_attributes\n",
        "FB"
      ],
      "execution_count": 23,
      "outputs": [
        {
          "output_type": "execute_result",
          "data": {
            "text/html": [
              "<div>\n",
              "<style scoped>\n",
              "    .dataframe tbody tr th:only-of-type {\n",
              "        vertical-align: middle;\n",
              "    }\n",
              "\n",
              "    .dataframe tbody tr th {\n",
              "        vertical-align: top;\n",
              "    }\n",
              "\n",
              "    .dataframe thead th {\n",
              "        text-align: right;\n",
              "    }\n",
              "</style>\n",
              "<table border=\"1\" class=\"dataframe\">\n",
              "  <thead>\n",
              "    <tr style=\"text-align: right;\">\n",
              "      <th></th>\n",
              "      <th>0</th>\n",
              "      <th>1</th>\n",
              "    </tr>\n",
              "  </thead>\n",
              "  <tbody>\n",
              "    <tr>\n",
              "      <th>passes_into_penalty_area</th>\n",
              "      <td>50.011626</td>\n",
              "      <td>54.949463</td>\n",
              "    </tr>\n",
              "    <tr>\n",
              "      <th>npxg_xa_per90</th>\n",
              "      <td>100.000000</td>\n",
              "      <td>100.000000</td>\n",
              "    </tr>\n",
              "    <tr>\n",
              "      <th>passes_completed</th>\n",
              "      <td>43.201547</td>\n",
              "      <td>50.325239</td>\n",
              "    </tr>\n",
              "    <tr>\n",
              "      <th>crosses</th>\n",
              "      <td>50.133746</td>\n",
              "      <td>54.453157</td>\n",
              "    </tr>\n",
              "    <tr>\n",
              "      <th>carry_progressive_distance</th>\n",
              "      <td>41.595724</td>\n",
              "      <td>41.938078</td>\n",
              "    </tr>\n",
              "  </tbody>\n",
              "</table>\n",
              "</div>"
            ],
            "text/plain": [
              "                                     0           1\n",
              "passes_into_penalty_area     50.011626   54.949463\n",
              "npxg_xa_per90               100.000000  100.000000\n",
              "passes_completed             43.201547   50.325239\n",
              "crosses                      50.133746   54.453157\n",
              "carry_progressive_distance   41.595724   41.938078"
            ]
          },
          "metadata": {
            "tags": []
          },
          "execution_count": 23
        }
      ]
    },
    {
      "cell_type": "markdown",
      "metadata": {
        "id": "BRQZBwlWfKdb"
      },
      "source": [
        "***Midfielders***"
      ]
    },
    {
      "cell_type": "code",
      "metadata": {
        "id": "_AAwUvEjZTvc"
      },
      "source": [
        "MF_position = 'Midfielders'\n",
        "MF_position_attributes = [\n",
        " 'touches',\n",
        " 'passes_progressive_distance',\n",
        " 'passes_pct',\n",
        " 'tackles_won',\n",
        " 'pressures']"
      ],
      "execution_count": 13,
      "outputs": []
    },
    {
      "cell_type": "code",
      "metadata": {
        "colab": {
          "base_uri": "https://localhost:8080/",
          "height": 1000
        },
        "id": "kUFyOhOXOImw",
        "outputId": "3c20d9f5-5303-41f8-fa4d-e312bff8dc8b"
      },
      "source": [
        "MF = lgbm(MF_position, MF_position_attributes)\n",
        "MF"
      ],
      "execution_count": 14,
      "outputs": [
        {
          "output_type": "stream",
          "text": [
            "touches_y\n",
            "Training until validation scores don't improve for 10 rounds.\n",
            "[10]\tvalid_0's mape: 0.640479\n",
            "[20]\tvalid_0's mape: 0.623613\n",
            "[30]\tvalid_0's mape: 0.61725\n",
            "[40]\tvalid_0's mape: 0.583841\n",
            "[50]\tvalid_0's mape: 0.572714\n",
            "[60]\tvalid_0's mape: 0.543639\n",
            "[70]\tvalid_0's mape: 0.520731\n",
            "[80]\tvalid_0's mape: 0.511596\n",
            "[90]\tvalid_0's mape: 0.490707\n",
            "[100]\tvalid_0's mape: 0.478854\n",
            "[110]\tvalid_0's mape: 0.468889\n",
            "[120]\tvalid_0's mape: 0.457815\n",
            "[130]\tvalid_0's mape: 0.444557\n",
            "[140]\tvalid_0's mape: 0.436852\n",
            "[150]\tvalid_0's mape: 0.433478\n",
            "[160]\tvalid_0's mape: 0.431079\n",
            "[170]\tvalid_0's mape: 0.428202\n",
            "[180]\tvalid_0's mape: 0.42309\n",
            "[190]\tvalid_0's mape: 0.419439\n",
            "[200]\tvalid_0's mape: 0.416749\n",
            "[210]\tvalid_0's mape: 0.415545\n",
            "[220]\tvalid_0's mape: 0.411156\n",
            "[230]\tvalid_0's mape: 0.40924\n",
            "[240]\tvalid_0's mape: 0.408145\n",
            "[250]\tvalid_0's mape: 0.408265\n",
            "Early stopping, best iteration is:\n",
            "[243]\tvalid_0's mape: 0.40735\n",
            "passes_progressive_distance_y\n",
            "Training until validation scores don't improve for 10 rounds.\n",
            "[10]\tvalid_0's mape: 0.788116\n",
            "[20]\tvalid_0's mape: 0.706751\n",
            "[30]\tvalid_0's mape: 0.677571\n",
            "[40]\tvalid_0's mape: 0.638737\n",
            "Early stopping, best iteration is:\n",
            "[39]\tvalid_0's mape: 0.636122\n",
            "passes_pct_y\n",
            "Training until validation scores don't improve for 10 rounds.\n",
            "[10]\tvalid_0's mape: 0.0859828\n",
            "[20]\tvalid_0's mape: 0.0821977\n",
            "[30]\tvalid_0's mape: 0.0797044\n",
            "[40]\tvalid_0's mape: 0.0777226\n",
            "[50]\tvalid_0's mape: 0.07466\n",
            "[60]\tvalid_0's mape: 0.0732355\n",
            "[70]\tvalid_0's mape: 0.0714408\n",
            "[80]\tvalid_0's mape: 0.0703646\n",
            "[90]\tvalid_0's mape: 0.0696806\n",
            "[100]\tvalid_0's mape: 0.0689546\n",
            "[110]\tvalid_0's mape: 0.0682565\n",
            "[120]\tvalid_0's mape: 0.0673737\n",
            "[130]\tvalid_0's mape: 0.0667171\n",
            "[140]\tvalid_0's mape: 0.0662821\n",
            "[150]\tvalid_0's mape: 0.0660072\n",
            "[160]\tvalid_0's mape: 0.065782\n",
            "[170]\tvalid_0's mape: 0.0653904\n",
            "[180]\tvalid_0's mape: 0.0653565\n",
            "[190]\tvalid_0's mape: 0.0652167\n",
            "[200]\tvalid_0's mape: 0.0646107\n",
            "[210]\tvalid_0's mape: 0.0643428\n",
            "[220]\tvalid_0's mape: 0.0642427\n",
            "[230]\tvalid_0's mape: 0.0641694\n",
            "[240]\tvalid_0's mape: 0.0640148\n",
            "[250]\tvalid_0's mape: 0.063958\n",
            "Early stopping, best iteration is:\n",
            "[245]\tvalid_0's mape: 0.0639508\n",
            "tackles_won_y\n",
            "Training until validation scores don't improve for 10 rounds.\n",
            "[10]\tvalid_0's mape: 0.730102\n",
            "[20]\tvalid_0's mape: 0.684097\n",
            "[30]\tvalid_0's mape: 0.6496\n",
            "[40]\tvalid_0's mape: 0.624057\n",
            "[50]\tvalid_0's mape: 0.610454\n",
            "[60]\tvalid_0's mape: 0.592054\n",
            "[70]\tvalid_0's mape: 0.583722\n",
            "[80]\tvalid_0's mape: 0.588485\n",
            "Early stopping, best iteration is:\n",
            "[70]\tvalid_0's mape: 0.583722\n",
            "pressures_y\n",
            "Training until validation scores don't improve for 10 rounds.\n",
            "[10]\tvalid_0's mape: 0.662762\n",
            "[20]\tvalid_0's mape: 0.63114\n",
            "[30]\tvalid_0's mape: 0.637114\n",
            "Early stopping, best iteration is:\n",
            "[23]\tvalid_0's mape: 0.623015\n"
          ],
          "name": "stdout"
        },
        {
          "output_type": "execute_result",
          "data": {
            "text/html": [
              "<div>\n",
              "<style scoped>\n",
              "    .dataframe tbody tr th:only-of-type {\n",
              "        vertical-align: middle;\n",
              "    }\n",
              "\n",
              "    .dataframe tbody tr th {\n",
              "        vertical-align: top;\n",
              "    }\n",
              "\n",
              "    .dataframe thead th {\n",
              "        text-align: right;\n",
              "    }\n",
              "</style>\n",
              "<table border=\"1\" class=\"dataframe\">\n",
              "  <thead>\n",
              "    <tr style=\"text-align: right;\">\n",
              "      <th></th>\n",
              "      <th>0</th>\n",
              "      <th>1</th>\n",
              "    </tr>\n",
              "  </thead>\n",
              "  <tbody>\n",
              "    <tr>\n",
              "      <th>0</th>\n",
              "      <td>29.441647</td>\n",
              "      <td>48.208538</td>\n",
              "    </tr>\n",
              "    <tr>\n",
              "      <th>1</th>\n",
              "      <td>39.391632</td>\n",
              "      <td>47.790873</td>\n",
              "    </tr>\n",
              "    <tr>\n",
              "      <th>2</th>\n",
              "      <td>6.461679</td>\n",
              "      <td>4.263765</td>\n",
              "    </tr>\n",
              "    <tr>\n",
              "      <th>3</th>\n",
              "      <td>37.707259</td>\n",
              "      <td>56.172282</td>\n",
              "    </tr>\n",
              "    <tr>\n",
              "      <th>4</th>\n",
              "      <td>40.081913</td>\n",
              "      <td>43.615923</td>\n",
              "    </tr>\n",
              "  </tbody>\n",
              "</table>\n",
              "</div>"
            ],
            "text/plain": [
              "           0          1\n",
              "0  29.441647  48.208538\n",
              "1  39.391632  47.790873\n",
              "2   6.461679   4.263765\n",
              "3  37.707259  56.172282\n",
              "4  40.081913  43.615923"
            ]
          },
          "metadata": {
            "tags": []
          },
          "execution_count": 14
        }
      ]
    },
    {
      "cell_type": "code",
      "metadata": {
        "colab": {
          "base_uri": "https://localhost:8080/",
          "height": 204
        },
        "id": "SmTqLPRvOWR3",
        "outputId": "1b639e63-f1f1-4268-d7d9-5a9ebe072320"
      },
      "source": [
        "MF.index = MF_position_attributes\n",
        "MF"
      ],
      "execution_count": 22,
      "outputs": [
        {
          "output_type": "execute_result",
          "data": {
            "text/html": [
              "<div>\n",
              "<style scoped>\n",
              "    .dataframe tbody tr th:only-of-type {\n",
              "        vertical-align: middle;\n",
              "    }\n",
              "\n",
              "    .dataframe tbody tr th {\n",
              "        vertical-align: top;\n",
              "    }\n",
              "\n",
              "    .dataframe thead th {\n",
              "        text-align: right;\n",
              "    }\n",
              "</style>\n",
              "<table border=\"1\" class=\"dataframe\">\n",
              "  <thead>\n",
              "    <tr style=\"text-align: right;\">\n",
              "      <th></th>\n",
              "      <th>0</th>\n",
              "      <th>1</th>\n",
              "    </tr>\n",
              "  </thead>\n",
              "  <tbody>\n",
              "    <tr>\n",
              "      <th>touches</th>\n",
              "      <td>29.441647</td>\n",
              "      <td>48.208538</td>\n",
              "    </tr>\n",
              "    <tr>\n",
              "      <th>passes_progressive_distance</th>\n",
              "      <td>39.391632</td>\n",
              "      <td>47.790873</td>\n",
              "    </tr>\n",
              "    <tr>\n",
              "      <th>passes_pct</th>\n",
              "      <td>6.461679</td>\n",
              "      <td>4.263765</td>\n",
              "    </tr>\n",
              "    <tr>\n",
              "      <th>tackles_won</th>\n",
              "      <td>37.707259</td>\n",
              "      <td>56.172282</td>\n",
              "    </tr>\n",
              "    <tr>\n",
              "      <th>pressures</th>\n",
              "      <td>40.081913</td>\n",
              "      <td>43.615923</td>\n",
              "    </tr>\n",
              "  </tbody>\n",
              "</table>\n",
              "</div>"
            ],
            "text/plain": [
              "                                     0          1\n",
              "touches                      29.441647  48.208538\n",
              "passes_progressive_distance  39.391632  47.790873\n",
              "passes_pct                    6.461679   4.263765\n",
              "tackles_won                  37.707259  56.172282\n",
              "pressures                    40.081913  43.615923"
            ]
          },
          "metadata": {
            "tags": []
          },
          "execution_count": 22
        }
      ]
    },
    {
      "cell_type": "markdown",
      "metadata": {
        "id": "GnElfy3RgzNt"
      },
      "source": [
        "***Wingers***"
      ]
    },
    {
      "cell_type": "code",
      "metadata": {
        "id": "t3g86IZKbRvI"
      },
      "source": [
        "W_position = 'Wingers'\n",
        "W_position_attributes = [\n",
        " 'dribbles_completed_pct',\n",
        " 'passes_pct',\n",
        " 'npxg_xa_per90',\n",
        " 'sca_per90',\n",
        " 'crosses']"
      ],
      "execution_count": 15,
      "outputs": []
    },
    {
      "cell_type": "code",
      "metadata": {
        "colab": {
          "base_uri": "https://localhost:8080/",
          "height": 1000
        },
        "id": "_nenZ0O4ORen",
        "outputId": "2ea7c2d1-e475-4920-feb5-5e552c9633b9"
      },
      "source": [
        "W = lgbm(W_position, W_position_attributes)\n",
        "W"
      ],
      "execution_count": 16,
      "outputs": [
        {
          "output_type": "stream",
          "text": [
            "dribbles_completed_pct_y\n",
            "Training until validation scores don't improve for 10 rounds.\n",
            "[10]\tvalid_0's mape: 0.13944\n",
            "[20]\tvalid_0's mape: 0.13592\n",
            "[30]\tvalid_0's mape: 0.13583\n",
            "Early stopping, best iteration is:\n",
            "[22]\tvalid_0's mape: 0.135325\n",
            "passes_pct_y\n",
            "Training until validation scores don't improve for 10 rounds.\n",
            "[10]\tvalid_0's mape: 0.0625726\n",
            "[20]\tvalid_0's mape: 0.0609918\n",
            "[30]\tvalid_0's mape: 0.0583308\n",
            "[40]\tvalid_0's mape: 0.0570905\n",
            "[50]\tvalid_0's mape: 0.0559499\n",
            "[60]\tvalid_0's mape: 0.0546226\n",
            "[70]\tvalid_0's mape: 0.0533174\n",
            "[80]\tvalid_0's mape: 0.052182\n",
            "[90]\tvalid_0's mape: 0.0518023\n",
            "[100]\tvalid_0's mape: 0.0513569\n",
            "[110]\tvalid_0's mape: 0.050672\n",
            "[120]\tvalid_0's mape: 0.0504409\n",
            "[130]\tvalid_0's mape: 0.05019\n",
            "[140]\tvalid_0's mape: 0.0492952\n",
            "[150]\tvalid_0's mape: 0.0485958\n",
            "[160]\tvalid_0's mape: 0.0483049\n",
            "Early stopping, best iteration is:\n",
            "[156]\tvalid_0's mape: 0.0482964\n",
            "npxg_xa_per90_y\n",
            "Training until validation scores don't improve for 10 rounds.\n",
            "[10]\tvalid_0's mape: 0.104575\n",
            "[20]\tvalid_0's mape: 0.104094\n",
            "[30]\tvalid_0's mape: 0.100276\n",
            "[40]\tvalid_0's mape: 0.099942\n",
            "[50]\tvalid_0's mape: 0.0971551\n",
            "[60]\tvalid_0's mape: 0.0976122\n",
            "Early stopping, best iteration is:\n",
            "[50]\tvalid_0's mape: 0.0971551\n",
            "sca_per90_y\n",
            "Training until validation scores don't improve for 10 rounds.\n",
            "[10]\tvalid_0's mape: 0.289453\n",
            "[20]\tvalid_0's mape: 0.288599\n",
            "Early stopping, best iteration is:\n",
            "[19]\tvalid_0's mape: 0.286947\n",
            "crosses_y\n",
            "Training until validation scores don't improve for 10 rounds.\n",
            "[10]\tvalid_0's mape: 1.85739\n",
            "[20]\tvalid_0's mape: 1.84628\n",
            "Early stopping, best iteration is:\n",
            "[12]\tvalid_0's mape: 1.8363\n"
          ],
          "name": "stdout"
        },
        {
          "output_type": "execute_result",
          "data": {
            "text/html": [
              "<div>\n",
              "<style scoped>\n",
              "    .dataframe tbody tr th:only-of-type {\n",
              "        vertical-align: middle;\n",
              "    }\n",
              "\n",
              "    .dataframe tbody tr th {\n",
              "        vertical-align: top;\n",
              "    }\n",
              "\n",
              "    .dataframe thead th {\n",
              "        text-align: right;\n",
              "    }\n",
              "</style>\n",
              "<table border=\"1\" class=\"dataframe\">\n",
              "  <thead>\n",
              "    <tr style=\"text-align: right;\">\n",
              "      <th></th>\n",
              "      <th>0</th>\n",
              "      <th>1</th>\n",
              "    </tr>\n",
              "  </thead>\n",
              "  <tbody>\n",
              "    <tr>\n",
              "      <th>0</th>\n",
              "      <td>13.440491</td>\n",
              "      <td>17.428999</td>\n",
              "    </tr>\n",
              "    <tr>\n",
              "      <th>1</th>\n",
              "      <td>4.830161</td>\n",
              "      <td>5.413624</td>\n",
              "    </tr>\n",
              "    <tr>\n",
              "      <th>2</th>\n",
              "      <td>100.000000</td>\n",
              "      <td>100.000000</td>\n",
              "    </tr>\n",
              "    <tr>\n",
              "      <th>3</th>\n",
              "      <td>33.599996</td>\n",
              "      <td>31.732020</td>\n",
              "    </tr>\n",
              "    <tr>\n",
              "      <th>4</th>\n",
              "      <td>60.560368</td>\n",
              "      <td>59.032637</td>\n",
              "    </tr>\n",
              "  </tbody>\n",
              "</table>\n",
              "</div>"
            ],
            "text/plain": [
              "            0           1\n",
              "0   13.440491   17.428999\n",
              "1    4.830161    5.413624\n",
              "2  100.000000  100.000000\n",
              "3   33.599996   31.732020\n",
              "4   60.560368   59.032637"
            ]
          },
          "metadata": {
            "tags": []
          },
          "execution_count": 16
        }
      ]
    },
    {
      "cell_type": "code",
      "metadata": {
        "colab": {
          "base_uri": "https://localhost:8080/",
          "height": 204
        },
        "id": "lsQrfpIVOSEI",
        "outputId": "613a5f7f-8e55-4af1-a024-6141dc816e61"
      },
      "source": [
        "W.index = W_position_attributes\n",
        "W"
      ],
      "execution_count": 21,
      "outputs": [
        {
          "output_type": "execute_result",
          "data": {
            "text/html": [
              "<div>\n",
              "<style scoped>\n",
              "    .dataframe tbody tr th:only-of-type {\n",
              "        vertical-align: middle;\n",
              "    }\n",
              "\n",
              "    .dataframe tbody tr th {\n",
              "        vertical-align: top;\n",
              "    }\n",
              "\n",
              "    .dataframe thead th {\n",
              "        text-align: right;\n",
              "    }\n",
              "</style>\n",
              "<table border=\"1\" class=\"dataframe\">\n",
              "  <thead>\n",
              "    <tr style=\"text-align: right;\">\n",
              "      <th></th>\n",
              "      <th>0</th>\n",
              "      <th>1</th>\n",
              "    </tr>\n",
              "  </thead>\n",
              "  <tbody>\n",
              "    <tr>\n",
              "      <th>dribbles_completed_pct</th>\n",
              "      <td>13.440491</td>\n",
              "      <td>17.428999</td>\n",
              "    </tr>\n",
              "    <tr>\n",
              "      <th>passes_pct</th>\n",
              "      <td>4.830161</td>\n",
              "      <td>5.413624</td>\n",
              "    </tr>\n",
              "    <tr>\n",
              "      <th>npxg_xa_per90</th>\n",
              "      <td>100.000000</td>\n",
              "      <td>100.000000</td>\n",
              "    </tr>\n",
              "    <tr>\n",
              "      <th>sca_per90</th>\n",
              "      <td>33.599996</td>\n",
              "      <td>31.732020</td>\n",
              "    </tr>\n",
              "    <tr>\n",
              "      <th>crosses</th>\n",
              "      <td>60.560368</td>\n",
              "      <td>59.032637</td>\n",
              "    </tr>\n",
              "  </tbody>\n",
              "</table>\n",
              "</div>"
            ],
            "text/plain": [
              "                                 0           1\n",
              "dribbles_completed_pct   13.440491   17.428999\n",
              "passes_pct                4.830161    5.413624\n",
              "npxg_xa_per90           100.000000  100.000000\n",
              "sca_per90                33.599996   31.732020\n",
              "crosses                  60.560368   59.032637"
            ]
          },
          "metadata": {
            "tags": []
          },
          "execution_count": 21
        }
      ]
    },
    {
      "cell_type": "markdown",
      "metadata": {
        "id": "CO55Aj0RmeWR"
      },
      "source": [
        "***Forwards***"
      ]
    },
    {
      "cell_type": "code",
      "metadata": {
        "id": "O49zP2XMcwx7"
      },
      "source": [
        "F_position = 'Forwards'\n",
        "F_position_attributes = [\n",
        " 'sca_per90',\n",
        " 'npxg_per90',\n",
        " 'shots_total_per90',\n",
        " 'aerials_won',\n",
        " 'gca_per90']"
      ],
      "execution_count": 17,
      "outputs": []
    },
    {
      "cell_type": "code",
      "metadata": {
        "colab": {
          "base_uri": "https://localhost:8080/",
          "height": 1000
        },
        "id": "Bjqw4h3ROhki",
        "outputId": "aebdc81e-dd14-45e1-8230-68ddaf0fe5bd"
      },
      "source": [
        "F = lgbm(F_position, F_position_attributes)\n",
        "F"
      ],
      "execution_count": 18,
      "outputs": [
        {
          "output_type": "stream",
          "text": [
            "sca_per90_y\n",
            "Training until validation scores don't improve for 10 rounds.\n",
            "[10]\tvalid_0's mape: 0.421296\n",
            "Early stopping, best iteration is:\n",
            "[2]\tvalid_0's mape: 0.411839\n",
            "npxg_per90_y\n",
            "Training until validation scores don't improve for 10 rounds.\n",
            "[10]\tvalid_0's mape: 0.149977\n",
            "[20]\tvalid_0's mape: 0.148898\n",
            "[30]\tvalid_0's mape: 0.144315\n",
            "[40]\tvalid_0's mape: 0.143043\n",
            "[50]\tvalid_0's mape: 0.139026\n",
            "[60]\tvalid_0's mape: 0.136905\n",
            "[70]\tvalid_0's mape: 0.13456\n",
            "[80]\tvalid_0's mape: 0.133028\n",
            "[90]\tvalid_0's mape: 0.132149\n",
            "[100]\tvalid_0's mape: 0.130817\n",
            "[110]\tvalid_0's mape: 0.129037\n",
            "[120]\tvalid_0's mape: 0.127273\n",
            "[130]\tvalid_0's mape: 0.125896\n",
            "[140]\tvalid_0's mape: 0.124761\n",
            "[150]\tvalid_0's mape: 0.124149\n",
            "[160]\tvalid_0's mape: 0.123533\n",
            "[170]\tvalid_0's mape: 0.123057\n",
            "[180]\tvalid_0's mape: 0.12243\n",
            "[190]\tvalid_0's mape: 0.12153\n",
            "[200]\tvalid_0's mape: 0.120472\n",
            "[210]\tvalid_0's mape: 0.12005\n",
            "Early stopping, best iteration is:\n",
            "[205]\tvalid_0's mape: 0.119906\n",
            "shots_total_per90_y\n",
            "Training until validation scores don't improve for 10 rounds.\n",
            "[10]\tvalid_0's mape: 0.354137\n",
            "[20]\tvalid_0's mape: 0.347056\n",
            "[30]\tvalid_0's mape: 0.339454\n",
            "[40]\tvalid_0's mape: 0.335034\n",
            "[50]\tvalid_0's mape: 0.330515\n",
            "[60]\tvalid_0's mape: 0.326269\n",
            "[70]\tvalid_0's mape: 0.322057\n",
            "[80]\tvalid_0's mape: 0.319386\n",
            "[90]\tvalid_0's mape: 0.314911\n",
            "[100]\tvalid_0's mape: 0.313426\n",
            "Early stopping, best iteration is:\n",
            "[93]\tvalid_0's mape: 0.312462\n",
            "aerials_won_y\n",
            "Training until validation scores don't improve for 10 rounds.\n",
            "[10]\tvalid_0's mape: 1.00619\n",
            "[20]\tvalid_0's mape: 1.00954\n",
            "[30]\tvalid_0's mape: 0.99894\n",
            "[40]\tvalid_0's mape: 0.987693\n",
            "Early stopping, best iteration is:\n",
            "[34]\tvalid_0's mape: 0.982013\n",
            "gca_per90_y\n",
            "Training until validation scores don't improve for 10 rounds.\n",
            "[10]\tvalid_0's mape: 0.180532\n",
            "Early stopping, best iteration is:\n",
            "[1]\tvalid_0's mape: 0.179447\n"
          ],
          "name": "stdout"
        },
        {
          "output_type": "execute_result",
          "data": {
            "text/html": [
              "<div>\n",
              "<style scoped>\n",
              "    .dataframe tbody tr th:only-of-type {\n",
              "        vertical-align: middle;\n",
              "    }\n",
              "\n",
              "    .dataframe tbody tr th {\n",
              "        vertical-align: top;\n",
              "    }\n",
              "\n",
              "    .dataframe thead th {\n",
              "        text-align: right;\n",
              "    }\n",
              "</style>\n",
              "<table border=\"1\" class=\"dataframe\">\n",
              "  <thead>\n",
              "    <tr style=\"text-align: right;\">\n",
              "      <th></th>\n",
              "      <th>0</th>\n",
              "      <th>1</th>\n",
              "    </tr>\n",
              "  </thead>\n",
              "  <tbody>\n",
              "    <tr>\n",
              "      <th>0</th>\n",
              "      <td>50.877132</td>\n",
              "      <td>47.093969</td>\n",
              "    </tr>\n",
              "    <tr>\n",
              "      <th>1</th>\n",
              "      <td>100.000000</td>\n",
              "      <td>100.000000</td>\n",
              "    </tr>\n",
              "    <tr>\n",
              "      <th>2</th>\n",
              "      <td>42.105237</td>\n",
              "      <td>35.726488</td>\n",
              "    </tr>\n",
              "    <tr>\n",
              "      <th>3</th>\n",
              "      <td>68.709950</td>\n",
              "      <td>57.656440</td>\n",
              "    </tr>\n",
              "    <tr>\n",
              "      <th>4</th>\n",
              "      <td>100.000000</td>\n",
              "      <td>100.000000</td>\n",
              "    </tr>\n",
              "  </tbody>\n",
              "</table>\n",
              "</div>"
            ],
            "text/plain": [
              "            0           1\n",
              "0   50.877132   47.093969\n",
              "1  100.000000  100.000000\n",
              "2   42.105237   35.726488\n",
              "3   68.709950   57.656440\n",
              "4  100.000000  100.000000"
            ]
          },
          "metadata": {
            "tags": []
          },
          "execution_count": 18
        }
      ]
    },
    {
      "cell_type": "code",
      "metadata": {
        "colab": {
          "base_uri": "https://localhost:8080/",
          "height": 204
        },
        "id": "JNQdHoi9ONJ2",
        "outputId": "110914e3-752a-4f2c-d763-ae2a93220096"
      },
      "source": [
        "F.index = F_position_attributes\n",
        "F"
      ],
      "execution_count": 20,
      "outputs": [
        {
          "output_type": "execute_result",
          "data": {
            "text/html": [
              "<div>\n",
              "<style scoped>\n",
              "    .dataframe tbody tr th:only-of-type {\n",
              "        vertical-align: middle;\n",
              "    }\n",
              "\n",
              "    .dataframe tbody tr th {\n",
              "        vertical-align: top;\n",
              "    }\n",
              "\n",
              "    .dataframe thead th {\n",
              "        text-align: right;\n",
              "    }\n",
              "</style>\n",
              "<table border=\"1\" class=\"dataframe\">\n",
              "  <thead>\n",
              "    <tr style=\"text-align: right;\">\n",
              "      <th></th>\n",
              "      <th>0</th>\n",
              "      <th>1</th>\n",
              "    </tr>\n",
              "  </thead>\n",
              "  <tbody>\n",
              "    <tr>\n",
              "      <th>sca_per90</th>\n",
              "      <td>50.877132</td>\n",
              "      <td>47.093969</td>\n",
              "    </tr>\n",
              "    <tr>\n",
              "      <th>npxg_per90</th>\n",
              "      <td>100.000000</td>\n",
              "      <td>100.000000</td>\n",
              "    </tr>\n",
              "    <tr>\n",
              "      <th>shots_total_per90</th>\n",
              "      <td>42.105237</td>\n",
              "      <td>35.726488</td>\n",
              "    </tr>\n",
              "    <tr>\n",
              "      <th>aerials_won</th>\n",
              "      <td>68.709950</td>\n",
              "      <td>57.656440</td>\n",
              "    </tr>\n",
              "    <tr>\n",
              "      <th>gca_per90</th>\n",
              "      <td>100.000000</td>\n",
              "      <td>100.000000</td>\n",
              "    </tr>\n",
              "  </tbody>\n",
              "</table>\n",
              "</div>"
            ],
            "text/plain": [
              "                            0           1\n",
              "sca_per90           50.877132   47.093969\n",
              "npxg_per90         100.000000  100.000000\n",
              "shots_total_per90   42.105237   35.726488\n",
              "aerials_won         68.709950   57.656440\n",
              "gca_per90          100.000000  100.000000"
            ]
          },
          "metadata": {
            "tags": []
          },
          "execution_count": 20
        }
      ]
    },
    {
      "cell_type": "code",
      "metadata": {
        "colab": {
          "base_uri": "https://localhost:8080/"
        },
        "id": "6MJUKTodyfZM",
        "outputId": "6736d9b2-bafe-4d1e-ce9c-8fe22d255374"
      },
      "source": [
        "All_param = [\n",
        " 'aerials_won',\n",
        " 'carry_progressive_distance',\n",
        " 'crosses',\n",
        " 'dribbles_completed_pct',\n",
        " 'gca_per90',\n",
        " 'interceptions',\n",
        " 'npxg_per90',\n",
        " 'npxg_xa_per90',\n",
        " 'passes_completed',\n",
        " 'passes_into_penalty_area',\n",
        " 'passes_pct',\n",
        " 'passes_progressive_distance',\n",
        " 'pressures',\n",
        " 'sca_per90',\n",
        " 'shots_total_per90',\n",
        " 'tackles',\n",
        " 'tackles_won',\n",
        " 'touches']\n",
        "All_param"
      ],
      "execution_count": 19,
      "outputs": [
        {
          "output_type": "execute_result",
          "data": {
            "text/plain": [
              "['aerials_won',\n",
              " 'carry_progressive_distance',\n",
              " 'crosses',\n",
              " 'dribbles_completed_pct',\n",
              " 'gca_per90',\n",
              " 'interceptions',\n",
              " 'npxg_per90',\n",
              " 'npxg_xa_per90',\n",
              " 'passes_completed',\n",
              " 'passes_into_penalty_area',\n",
              " 'passes_pct',\n",
              " 'passes_progressive_distance',\n",
              " 'pressures',\n",
              " 'sca_per90',\n",
              " 'shots_total_per90',\n",
              " 'tackles',\n",
              " 'tackles_won',\n",
              " 'touches']"
            ]
          },
          "metadata": {
            "tags": []
          },
          "execution_count": 19
        }
      ]
    }
  ]
}