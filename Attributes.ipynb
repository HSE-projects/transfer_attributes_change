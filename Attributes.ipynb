{
  "nbformat": 4,
  "nbformat_minor": 0,
  "metadata": {
    "colab": {
      "name": "Attributes.ipynb",
      "provenance": [],
      "collapsed_sections": []
    },
    "kernelspec": {
      "name": "python3",
      "display_name": "Python 3"
    },
    "language_info": {
      "name": "python"
    }
  },
  "cells": [
    {
      "cell_type": "markdown",
      "metadata": {
        "id": "e9T0esUftiTu"
      },
      "source": [
        "ЦЗ:"
      ]
    },
    {
      "cell_type": "code",
      "metadata": {
        "id": "6kEOZrx3tFSu"
      },
      "source": [
        "['age',\n",
        " 'minutes',\n",
        " 'games_starts',\n",
        " 'passes_completed',\n",
        " 'passes_pct',\n",
        " 'passes_progressive_distance',\n",
        " 'passes_long',\n",
        " 'passes_dead',\n",
        " 'tackles',\n",
        " 'tackles_won',\n",
        " 'tackles_mid_3rd',\n",
        " 'pressures',\n",
        " 'pressure_regain_pct',\n",
        " 'interceptions',\n",
        " 'touches',\n",
        " 'carry_progressive_distance',\n",
        " 'xg_plus_minus_per90',\n",
        " 'ball_recoveries',\n",
        " 'aerials_won',\n",
        " 'aerials_lost']"
      ],
      "execution_count": null,
      "outputs": []
    },
    {
      "cell_type": "markdown",
      "metadata": {
        "id": "dVOKwDQKtmad"
      },
      "source": [
        "Крайние защитники:"
      ]
    },
    {
      "cell_type": "code",
      "metadata": {
        "id": "LsgEnYZXtdsp"
      },
      "source": [
        "['age',\n",
        " 'minutes',\n",
        " 'games_starts',\n",
        " 'npxg_xa_per90',\n",
        " 'passes_completed',\n",
        " 'passes_pct',\n",
        " 'passes_progressive_distance',\n",
        " 'passes_into_final_third',\n",
        " 'passes_into_penalty_area',\n",
        " 'crosses',\n",
        " 'sca_per90',\n",
        " 'tackles',\n",
        " 'tackles_won',\n",
        " 'pressures',\n",
        " 'pressure_regain_pct',\n",
        " 'interceptions',\n",
        " 'carry_progressive_distance',\n",
        " 'xg_plus_minus_per90',\n",
        " 'ball_recoveries',\n",
        " 'dribbles_completed_pct']"
      ],
      "execution_count": null,
      "outputs": []
    },
    {
      "cell_type": "markdown",
      "metadata": {
        "id": "Wd5kFko6tr7e"
      },
      "source": [
        "Полузащитники:"
      ]
    },
    {
      "cell_type": "code",
      "metadata": {
        "id": "TL67O12ltvN-"
      },
      "source": [
        "['age',\n",
        " 'minutes',\n",
        " 'games_starts',\n",
        " 'npxg_xa_per90',\n",
        " 'passes_completed',\n",
        " 'passes_pct',\n",
        " 'passes_progressive_distance',\n",
        " 'passes_long',\n",
        " 'passes_into_final_third',\n",
        " 'passes_dead',\n",
        " 'sca_per90',\n",
        " 'tackles',\n",
        " 'tackles_won',\n",
        " 'pressures',\n",
        " 'interceptions',\n",
        " 'touches',\n",
        " 'dribbles',\n",
        " 'xg_plus_minus_per90',\n",
        " 'ball_recoveries',\n",
        " 'aerials_won']"
      ],
      "execution_count": null,
      "outputs": []
    },
    {
      "cell_type": "markdown",
      "metadata": {
        "id": "eGXNFezltw2q"
      },
      "source": [
        "Вингеры:"
      ]
    },
    {
      "cell_type": "code",
      "metadata": {
        "id": "YVcwzYAltyi-"
      },
      "source": [
        "['age',\n",
        " 'minutes',\n",
        " 'games_starts',\n",
        " 'npxg_per90',\n",
        " 'npxg_xa_per90',\n",
        " 'passes_completed',\n",
        " 'passes_pct',\n",
        " 'passes_progressive_distance',\n",
        " 'passes_dead',\n",
        " 'crosses',\n",
        " 'sca_per90',\n",
        " 'touches',\n",
        " 'dribbles',\n",
        " 'dribbles_completed_pct',\n",
        " 'carry_progressive_distance',\n",
        " 'xg_plus_minus_per90']"
      ],
      "execution_count": null,
      "outputs": []
    },
    {
      "cell_type": "markdown",
      "metadata": {
        "id": "452Lba3Lt04f"
      },
      "source": [
        "Нападающие"
      ]
    },
    {
      "cell_type": "code",
      "metadata": {
        "id": "fL4LRKhwt2kw"
      },
      "source": [
        "['age',\n",
        " 'minutes',\n",
        " 'games_starts',\n",
        " 'npxg_per90',\n",
        " 'npxg_xa_per90',\n",
        " 'average_shot_distance',\n",
        " 'shots_total_per90',\n",
        " 'passes_dead',\n",
        " 'sca_per90',\n",
        " 'sca_dribbles',\n",
        " 'touches',\n",
        " 'dribbles',\n",
        " 'xg_plus_minus_per90',\n",
        " 'aerials_won',\n",
        " 'aerials_lost',\n",
        " 'gca_per90',\n",
        " 'touches_att_pen_area']"
      ],
      "execution_count": null,
      "outputs": []
    }
  ]
}